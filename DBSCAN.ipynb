{
  "nbformat": 4,
  "nbformat_minor": 0,
  "metadata": {
    "colab": {
      "name": "DBSCAN.ipynb",
      "provenance": []
    },
    "kernelspec": {
      "display_name": "Python 3",
      "language": "python",
      "name": "python3"
    },
    "language_info": {
      "codemirror_mode": {
        "name": "ipython",
        "version": 3
      },
      "file_extension": ".py",
      "mimetype": "text/x-python",
      "name": "python",
      "nbconvert_exporter": "python",
      "pygments_lexer": "ipython3",
      "version": "3.8.7"
    }
  },
  "cells": [
    {
      "cell_type": "markdown",
      "metadata": {
        "id": "YqljvBqpTmHB"
      },
      "source": [
        "# Data Survivor\n",
        "\n",
        "### Members:\n",
        "1.Dewi<br>\n",
        "2.Patrick<br>\n",
        "3.Ramzy<br>\n",
        "4.Stella<br>\n",
        "5.Wahyu<br>"
      ]
    },
    {
      "cell_type": "markdown",
      "metadata": {
        "id": "1cM6_K6ssrOi"
      },
      "source": [
        "# 1. Import Library"
      ]
    },
    {
      "cell_type": "code",
      "metadata": {
        "colab": {
          "base_uri": "https://localhost:8080/"
        },
        "id": "8fJM7BWFsouo",
        "outputId": "9c00ea17-e95e-40e6-c491-f5198430db30"
      },
      "source": [
        "import pandas as pd\n",
        "import matplotlib.pyplot as plt\n",
        "import seaborn as sns\n",
        "\n",
        "from google.colab import drive\n",
        "drive.mount('/content/gdrive')"
      ],
      "execution_count": null,
      "outputs": [
        {
          "output_type": "stream",
          "text": [
            "Mounted at /content/gdrive\n"
          ],
          "name": "stdout"
        }
      ]
    },
    {
      "cell_type": "markdown",
      "metadata": {
        "id": "yRVviMQNt0ec"
      },
      "source": [
        "# 2. Load Dataset"
      ]
    },
    {
      "cell_type": "code",
      "metadata": {
        "colab": {
          "base_uri": "https://localhost:8080/",
          "height": 206
        },
        "id": "pnb5FBiItADo",
        "outputId": "5266fa61-5a8d-47c8-bdb0-ff6fd6d7e4ea"
      },
      "source": [
        "dataset = pd.read_csv('/content/gdrive/MyDrive/IYKRA/Mall_Customers.csv')\n",
        "dataset.head()"
      ],
      "execution_count": null,
      "outputs": [
        {
          "output_type": "execute_result",
          "data": {
            "text/html": [
              "<div>\n",
              "<style scoped>\n",
              "    .dataframe tbody tr th:only-of-type {\n",
              "        vertical-align: middle;\n",
              "    }\n",
              "\n",
              "    .dataframe tbody tr th {\n",
              "        vertical-align: top;\n",
              "    }\n",
              "\n",
              "    .dataframe thead th {\n",
              "        text-align: right;\n",
              "    }\n",
              "</style>\n",
              "<table border=\"1\" class=\"dataframe\">\n",
              "  <thead>\n",
              "    <tr style=\"text-align: right;\">\n",
              "      <th></th>\n",
              "      <th>CustomerID</th>\n",
              "      <th>Gender</th>\n",
              "      <th>Age</th>\n",
              "      <th>Annual Income (k$)</th>\n",
              "      <th>Spending Score (1-100)</th>\n",
              "    </tr>\n",
              "  </thead>\n",
              "  <tbody>\n",
              "    <tr>\n",
              "      <th>0</th>\n",
              "      <td>1</td>\n",
              "      <td>Male</td>\n",
              "      <td>19</td>\n",
              "      <td>15</td>\n",
              "      <td>39</td>\n",
              "    </tr>\n",
              "    <tr>\n",
              "      <th>1</th>\n",
              "      <td>2</td>\n",
              "      <td>Male</td>\n",
              "      <td>21</td>\n",
              "      <td>15</td>\n",
              "      <td>81</td>\n",
              "    </tr>\n",
              "    <tr>\n",
              "      <th>2</th>\n",
              "      <td>3</td>\n",
              "      <td>Female</td>\n",
              "      <td>20</td>\n",
              "      <td>16</td>\n",
              "      <td>6</td>\n",
              "    </tr>\n",
              "    <tr>\n",
              "      <th>3</th>\n",
              "      <td>4</td>\n",
              "      <td>Female</td>\n",
              "      <td>23</td>\n",
              "      <td>16</td>\n",
              "      <td>77</td>\n",
              "    </tr>\n",
              "    <tr>\n",
              "      <th>4</th>\n",
              "      <td>5</td>\n",
              "      <td>Female</td>\n",
              "      <td>31</td>\n",
              "      <td>17</td>\n",
              "      <td>40</td>\n",
              "    </tr>\n",
              "  </tbody>\n",
              "</table>\n",
              "</div>"
            ],
            "text/plain": [
              "   CustomerID  Gender  Age  Annual Income (k$)  Spending Score (1-100)\n",
              "0           1    Male   19                  15                      39\n",
              "1           2    Male   21                  15                      81\n",
              "2           3  Female   20                  16                       6\n",
              "3           4  Female   23                  16                      77\n",
              "4           5  Female   31                  17                      40"
            ]
          },
          "metadata": {
            "tags": []
          },
          "execution_count": 2
        }
      ]
    },
    {
      "cell_type": "markdown",
      "metadata": {
        "id": "rByCgjkPueKk"
      },
      "source": [
        "# 3. Check Data Quality"
      ]
    },
    {
      "cell_type": "code",
      "metadata": {
        "colab": {
          "base_uri": "https://localhost:8080/"
        },
        "id": "k1W74IFpuQkw",
        "outputId": "857365f0-ab7b-4aad-830b-37abc2a2a292"
      },
      "source": [
        "dataset.isnull().sum()"
      ],
      "execution_count": null,
      "outputs": [
        {
          "output_type": "execute_result",
          "data": {
            "text/plain": [
              "CustomerID                0\n",
              "Gender                    0\n",
              "Age                       0\n",
              "Annual Income (k$)        0\n",
              "Spending Score (1-100)    0\n",
              "dtype: int64"
            ]
          },
          "metadata": {
            "tags": []
          },
          "execution_count": 4
        }
      ]
    },
    {
      "cell_type": "code",
      "metadata": {
        "colab": {
          "base_uri": "https://localhost:8080/",
          "height": 300
        },
        "id": "tc361tz-ucXk",
        "outputId": "9367bd97-5a28-46c5-b18c-db5bd8133e87"
      },
      "source": [
        "dataset.describe()"
      ],
      "execution_count": null,
      "outputs": [
        {
          "output_type": "execute_result",
          "data": {
            "text/html": [
              "<div>\n",
              "<style scoped>\n",
              "    .dataframe tbody tr th:only-of-type {\n",
              "        vertical-align: middle;\n",
              "    }\n",
              "\n",
              "    .dataframe tbody tr th {\n",
              "        vertical-align: top;\n",
              "    }\n",
              "\n",
              "    .dataframe thead th {\n",
              "        text-align: right;\n",
              "    }\n",
              "</style>\n",
              "<table border=\"1\" class=\"dataframe\">\n",
              "  <thead>\n",
              "    <tr style=\"text-align: right;\">\n",
              "      <th></th>\n",
              "      <th>CustomerID</th>\n",
              "      <th>Age</th>\n",
              "      <th>Annual Income (k$)</th>\n",
              "      <th>Spending Score (1-100)</th>\n",
              "    </tr>\n",
              "  </thead>\n",
              "  <tbody>\n",
              "    <tr>\n",
              "      <th>count</th>\n",
              "      <td>200.000000</td>\n",
              "      <td>200.000000</td>\n",
              "      <td>200.000000</td>\n",
              "      <td>200.000000</td>\n",
              "    </tr>\n",
              "    <tr>\n",
              "      <th>mean</th>\n",
              "      <td>100.500000</td>\n",
              "      <td>38.850000</td>\n",
              "      <td>60.560000</td>\n",
              "      <td>50.200000</td>\n",
              "    </tr>\n",
              "    <tr>\n",
              "      <th>std</th>\n",
              "      <td>57.879185</td>\n",
              "      <td>13.969007</td>\n",
              "      <td>26.264721</td>\n",
              "      <td>25.823522</td>\n",
              "    </tr>\n",
              "    <tr>\n",
              "      <th>min</th>\n",
              "      <td>1.000000</td>\n",
              "      <td>18.000000</td>\n",
              "      <td>15.000000</td>\n",
              "      <td>1.000000</td>\n",
              "    </tr>\n",
              "    <tr>\n",
              "      <th>25%</th>\n",
              "      <td>50.750000</td>\n",
              "      <td>28.750000</td>\n",
              "      <td>41.500000</td>\n",
              "      <td>34.750000</td>\n",
              "    </tr>\n",
              "    <tr>\n",
              "      <th>50%</th>\n",
              "      <td>100.500000</td>\n",
              "      <td>36.000000</td>\n",
              "      <td>61.500000</td>\n",
              "      <td>50.000000</td>\n",
              "    </tr>\n",
              "    <tr>\n",
              "      <th>75%</th>\n",
              "      <td>150.250000</td>\n",
              "      <td>49.000000</td>\n",
              "      <td>78.000000</td>\n",
              "      <td>73.000000</td>\n",
              "    </tr>\n",
              "    <tr>\n",
              "      <th>max</th>\n",
              "      <td>200.000000</td>\n",
              "      <td>70.000000</td>\n",
              "      <td>137.000000</td>\n",
              "      <td>99.000000</td>\n",
              "    </tr>\n",
              "  </tbody>\n",
              "</table>\n",
              "</div>"
            ],
            "text/plain": [
              "       CustomerID         Age  Annual Income (k$)  Spending Score (1-100)\n",
              "count  200.000000  200.000000          200.000000              200.000000\n",
              "mean   100.500000   38.850000           60.560000               50.200000\n",
              "std     57.879185   13.969007           26.264721               25.823522\n",
              "min      1.000000   18.000000           15.000000                1.000000\n",
              "25%     50.750000   28.750000           41.500000               34.750000\n",
              "50%    100.500000   36.000000           61.500000               50.000000\n",
              "75%    150.250000   49.000000           78.000000               73.000000\n",
              "max    200.000000   70.000000          137.000000               99.000000"
            ]
          },
          "metadata": {
            "tags": []
          },
          "execution_count": 5
        }
      ]
    },
    {
      "cell_type": "code",
      "metadata": {
        "colab": {
          "base_uri": "https://localhost:8080/"
        },
        "id": "bPjjO6Mjunuv",
        "outputId": "32d0b267-b20b-4fdc-9396-1f0f71fd0072"
      },
      "source": [
        "dataset.duplicated().sum()"
      ],
      "execution_count": null,
      "outputs": [
        {
          "output_type": "execute_result",
          "data": {
            "text/plain": [
              "0"
            ]
          },
          "metadata": {
            "tags": []
          },
          "execution_count": 6
        }
      ]
    },
    {
      "cell_type": "code",
      "metadata": {
        "id": "507kKaLWu_Ft"
      },
      "source": [
        "dataset.columns = ['CustomerID', 'Gender', 'Age', 'Annual Income',\n",
        "       'Spending Score']"
      ],
      "execution_count": null,
      "outputs": []
    },
    {
      "cell_type": "code",
      "metadata": {
        "colab": {
          "base_uri": "https://localhost:8080/",
          "height": 206
        },
        "id": "ovbiEdKxvQt4",
        "outputId": "229493f1-805f-4ab2-c9ad-b66c11f99512"
      },
      "source": [
        "dataset.head()"
      ],
      "execution_count": null,
      "outputs": [
        {
          "output_type": "execute_result",
          "data": {
            "text/html": [
              "<div>\n",
              "<style scoped>\n",
              "    .dataframe tbody tr th:only-of-type {\n",
              "        vertical-align: middle;\n",
              "    }\n",
              "\n",
              "    .dataframe tbody tr th {\n",
              "        vertical-align: top;\n",
              "    }\n",
              "\n",
              "    .dataframe thead th {\n",
              "        text-align: right;\n",
              "    }\n",
              "</style>\n",
              "<table border=\"1\" class=\"dataframe\">\n",
              "  <thead>\n",
              "    <tr style=\"text-align: right;\">\n",
              "      <th></th>\n",
              "      <th>CustomerID</th>\n",
              "      <th>Gender</th>\n",
              "      <th>Age</th>\n",
              "      <th>Annual Income</th>\n",
              "      <th>Spending Score</th>\n",
              "    </tr>\n",
              "  </thead>\n",
              "  <tbody>\n",
              "    <tr>\n",
              "      <th>0</th>\n",
              "      <td>1</td>\n",
              "      <td>Male</td>\n",
              "      <td>19</td>\n",
              "      <td>15</td>\n",
              "      <td>39</td>\n",
              "    </tr>\n",
              "    <tr>\n",
              "      <th>1</th>\n",
              "      <td>2</td>\n",
              "      <td>Male</td>\n",
              "      <td>21</td>\n",
              "      <td>15</td>\n",
              "      <td>81</td>\n",
              "    </tr>\n",
              "    <tr>\n",
              "      <th>2</th>\n",
              "      <td>3</td>\n",
              "      <td>Female</td>\n",
              "      <td>20</td>\n",
              "      <td>16</td>\n",
              "      <td>6</td>\n",
              "    </tr>\n",
              "    <tr>\n",
              "      <th>3</th>\n",
              "      <td>4</td>\n",
              "      <td>Female</td>\n",
              "      <td>23</td>\n",
              "      <td>16</td>\n",
              "      <td>77</td>\n",
              "    </tr>\n",
              "    <tr>\n",
              "      <th>4</th>\n",
              "      <td>5</td>\n",
              "      <td>Female</td>\n",
              "      <td>31</td>\n",
              "      <td>17</td>\n",
              "      <td>40</td>\n",
              "    </tr>\n",
              "  </tbody>\n",
              "</table>\n",
              "</div>"
            ],
            "text/plain": [
              "   CustomerID  Gender  Age  Annual Income  Spending Score\n",
              "0           1    Male   19             15              39\n",
              "1           2    Male   21             15              81\n",
              "2           3  Female   20             16               6\n",
              "3           4  Female   23             16              77\n",
              "4           5  Female   31             17              40"
            ]
          },
          "metadata": {
            "tags": []
          },
          "execution_count": 8
        }
      ]
    },
    {
      "cell_type": "markdown",
      "metadata": {
        "id": "tvV6K58oTmHH"
      },
      "source": [
        "# 4. Select Feature "
      ]
    },
    {
      "cell_type": "code",
      "metadata": {
        "id": "Va9IpHRATmHH"
      },
      "source": [
        "dataset=dataset.replace(['Male','Female'],(0,1))"
      ],
      "execution_count": null,
      "outputs": []
    },
    {
      "cell_type": "code",
      "metadata": {
        "colab": {
          "base_uri": "https://localhost:8080/",
          "height": 206
        },
        "id": "0FbnEZoOva5Y",
        "outputId": "1ece21dd-af21-4561-cfd3-9a493ba0d4df"
      },
      "source": [
        "X = dataset.loc[:, ['Gender', 'Age', 'Annual Income','Spending Score']]\n",
        "X.head()"
      ],
      "execution_count": null,
      "outputs": [
        {
          "output_type": "execute_result",
          "data": {
            "text/html": [
              "<div>\n",
              "<style scoped>\n",
              "    .dataframe tbody tr th:only-of-type {\n",
              "        vertical-align: middle;\n",
              "    }\n",
              "\n",
              "    .dataframe tbody tr th {\n",
              "        vertical-align: top;\n",
              "    }\n",
              "\n",
              "    .dataframe thead th {\n",
              "        text-align: right;\n",
              "    }\n",
              "</style>\n",
              "<table border=\"1\" class=\"dataframe\">\n",
              "  <thead>\n",
              "    <tr style=\"text-align: right;\">\n",
              "      <th></th>\n",
              "      <th>Gender</th>\n",
              "      <th>Age</th>\n",
              "      <th>Annual Income</th>\n",
              "      <th>Spending Score</th>\n",
              "    </tr>\n",
              "  </thead>\n",
              "  <tbody>\n",
              "    <tr>\n",
              "      <th>0</th>\n",
              "      <td>0</td>\n",
              "      <td>19</td>\n",
              "      <td>15</td>\n",
              "      <td>39</td>\n",
              "    </tr>\n",
              "    <tr>\n",
              "      <th>1</th>\n",
              "      <td>0</td>\n",
              "      <td>21</td>\n",
              "      <td>15</td>\n",
              "      <td>81</td>\n",
              "    </tr>\n",
              "    <tr>\n",
              "      <th>2</th>\n",
              "      <td>1</td>\n",
              "      <td>20</td>\n",
              "      <td>16</td>\n",
              "      <td>6</td>\n",
              "    </tr>\n",
              "    <tr>\n",
              "      <th>3</th>\n",
              "      <td>1</td>\n",
              "      <td>23</td>\n",
              "      <td>16</td>\n",
              "      <td>77</td>\n",
              "    </tr>\n",
              "    <tr>\n",
              "      <th>4</th>\n",
              "      <td>1</td>\n",
              "      <td>31</td>\n",
              "      <td>17</td>\n",
              "      <td>40</td>\n",
              "    </tr>\n",
              "  </tbody>\n",
              "</table>\n",
              "</div>"
            ],
            "text/plain": [
              "   Gender  Age  Annual Income  Spending Score\n",
              "0       0   19             15              39\n",
              "1       0   21             15              81\n",
              "2       1   20             16               6\n",
              "3       1   23             16              77\n",
              "4       1   31             17              40"
            ]
          },
          "metadata": {
            "tags": []
          },
          "execution_count": 10
        }
      ]
    },
    {
      "cell_type": "code",
      "metadata": {
        "id": "srON707dTmHI"
      },
      "source": [
        ""
      ],
      "execution_count": null,
      "outputs": []
    },
    {
      "cell_type": "markdown",
      "metadata": {
        "id": "T-6Z_DiITmHI"
      },
      "source": [
        "# 5. Clustering with DBSCAN"
      ]
    },
    {
      "cell_type": "code",
      "metadata": {
        "id": "-SHFY5YGTmHI",
        "outputId": "8fd56639-c91a-4c56-a6c6-662e18199c91"
      },
      "source": [
        "X"
      ],
      "execution_count": null,
      "outputs": [
        {
          "output_type": "execute_result",
          "data": {
            "text/html": [
              "<div>\n",
              "<style scoped>\n",
              "    .dataframe tbody tr th:only-of-type {\n",
              "        vertical-align: middle;\n",
              "    }\n",
              "\n",
              "    .dataframe tbody tr th {\n",
              "        vertical-align: top;\n",
              "    }\n",
              "\n",
              "    .dataframe thead th {\n",
              "        text-align: right;\n",
              "    }\n",
              "</style>\n",
              "<table border=\"1\" class=\"dataframe\">\n",
              "  <thead>\n",
              "    <tr style=\"text-align: right;\">\n",
              "      <th></th>\n",
              "      <th>Gender</th>\n",
              "      <th>Age</th>\n",
              "      <th>Annual Income</th>\n",
              "      <th>Spending Score</th>\n",
              "    </tr>\n",
              "  </thead>\n",
              "  <tbody>\n",
              "    <tr>\n",
              "      <th>0</th>\n",
              "      <td>0</td>\n",
              "      <td>19</td>\n",
              "      <td>15</td>\n",
              "      <td>39</td>\n",
              "    </tr>\n",
              "    <tr>\n",
              "      <th>1</th>\n",
              "      <td>0</td>\n",
              "      <td>21</td>\n",
              "      <td>15</td>\n",
              "      <td>81</td>\n",
              "    </tr>\n",
              "    <tr>\n",
              "      <th>2</th>\n",
              "      <td>1</td>\n",
              "      <td>20</td>\n",
              "      <td>16</td>\n",
              "      <td>6</td>\n",
              "    </tr>\n",
              "    <tr>\n",
              "      <th>3</th>\n",
              "      <td>1</td>\n",
              "      <td>23</td>\n",
              "      <td>16</td>\n",
              "      <td>77</td>\n",
              "    </tr>\n",
              "    <tr>\n",
              "      <th>4</th>\n",
              "      <td>1</td>\n",
              "      <td>31</td>\n",
              "      <td>17</td>\n",
              "      <td>40</td>\n",
              "    </tr>\n",
              "    <tr>\n",
              "      <th>...</th>\n",
              "      <td>...</td>\n",
              "      <td>...</td>\n",
              "      <td>...</td>\n",
              "      <td>...</td>\n",
              "    </tr>\n",
              "    <tr>\n",
              "      <th>195</th>\n",
              "      <td>1</td>\n",
              "      <td>35</td>\n",
              "      <td>120</td>\n",
              "      <td>79</td>\n",
              "    </tr>\n",
              "    <tr>\n",
              "      <th>196</th>\n",
              "      <td>1</td>\n",
              "      <td>45</td>\n",
              "      <td>126</td>\n",
              "      <td>28</td>\n",
              "    </tr>\n",
              "    <tr>\n",
              "      <th>197</th>\n",
              "      <td>0</td>\n",
              "      <td>32</td>\n",
              "      <td>126</td>\n",
              "      <td>74</td>\n",
              "    </tr>\n",
              "    <tr>\n",
              "      <th>198</th>\n",
              "      <td>0</td>\n",
              "      <td>32</td>\n",
              "      <td>137</td>\n",
              "      <td>18</td>\n",
              "    </tr>\n",
              "    <tr>\n",
              "      <th>199</th>\n",
              "      <td>0</td>\n",
              "      <td>30</td>\n",
              "      <td>137</td>\n",
              "      <td>83</td>\n",
              "    </tr>\n",
              "  </tbody>\n",
              "</table>\n",
              "<p>200 rows × 4 columns</p>\n",
              "</div>"
            ],
            "text/plain": [
              "     Gender  Age  Annual Income  Spending Score\n",
              "0         0   19             15              39\n",
              "1         0   21             15              81\n",
              "2         1   20             16               6\n",
              "3         1   23             16              77\n",
              "4         1   31             17              40\n",
              "..      ...  ...            ...             ...\n",
              "195       1   35            120              79\n",
              "196       1   45            126              28\n",
              "197       0   32            126              74\n",
              "198       0   32            137              18\n",
              "199       0   30            137              83\n",
              "\n",
              "[200 rows x 4 columns]"
            ]
          },
          "metadata": {
            "tags": []
          },
          "execution_count": 11
        }
      ]
    },
    {
      "cell_type": "code",
      "metadata": {
        "id": "f9tWcdv2TmHI"
      },
      "source": [
        "from sklearn.cluster import DBSCAN\n",
        "from sklearn.preprocessing import StandardScaler\n",
        "from sklearn.metrics import silhouette_score"
      ],
      "execution_count": null,
      "outputs": []
    },
    {
      "cell_type": "code",
      "metadata": {
        "id": "_WgOg3FMTmHJ",
        "outputId": "8b63d45b-a78a-4c5c-8d00-142c0bc9f48e"
      },
      "source": [
        "X"
      ],
      "execution_count": null,
      "outputs": [
        {
          "output_type": "execute_result",
          "data": {
            "text/html": [
              "<div>\n",
              "<style scoped>\n",
              "    .dataframe tbody tr th:only-of-type {\n",
              "        vertical-align: middle;\n",
              "    }\n",
              "\n",
              "    .dataframe tbody tr th {\n",
              "        vertical-align: top;\n",
              "    }\n",
              "\n",
              "    .dataframe thead th {\n",
              "        text-align: right;\n",
              "    }\n",
              "</style>\n",
              "<table border=\"1\" class=\"dataframe\">\n",
              "  <thead>\n",
              "    <tr style=\"text-align: right;\">\n",
              "      <th></th>\n",
              "      <th>Gender</th>\n",
              "      <th>Age</th>\n",
              "      <th>Annual Income</th>\n",
              "      <th>Spending Score</th>\n",
              "    </tr>\n",
              "  </thead>\n",
              "  <tbody>\n",
              "    <tr>\n",
              "      <th>0</th>\n",
              "      <td>0</td>\n",
              "      <td>19</td>\n",
              "      <td>15</td>\n",
              "      <td>39</td>\n",
              "    </tr>\n",
              "    <tr>\n",
              "      <th>1</th>\n",
              "      <td>0</td>\n",
              "      <td>21</td>\n",
              "      <td>15</td>\n",
              "      <td>81</td>\n",
              "    </tr>\n",
              "    <tr>\n",
              "      <th>2</th>\n",
              "      <td>1</td>\n",
              "      <td>20</td>\n",
              "      <td>16</td>\n",
              "      <td>6</td>\n",
              "    </tr>\n",
              "    <tr>\n",
              "      <th>3</th>\n",
              "      <td>1</td>\n",
              "      <td>23</td>\n",
              "      <td>16</td>\n",
              "      <td>77</td>\n",
              "    </tr>\n",
              "    <tr>\n",
              "      <th>4</th>\n",
              "      <td>1</td>\n",
              "      <td>31</td>\n",
              "      <td>17</td>\n",
              "      <td>40</td>\n",
              "    </tr>\n",
              "    <tr>\n",
              "      <th>...</th>\n",
              "      <td>...</td>\n",
              "      <td>...</td>\n",
              "      <td>...</td>\n",
              "      <td>...</td>\n",
              "    </tr>\n",
              "    <tr>\n",
              "      <th>195</th>\n",
              "      <td>1</td>\n",
              "      <td>35</td>\n",
              "      <td>120</td>\n",
              "      <td>79</td>\n",
              "    </tr>\n",
              "    <tr>\n",
              "      <th>196</th>\n",
              "      <td>1</td>\n",
              "      <td>45</td>\n",
              "      <td>126</td>\n",
              "      <td>28</td>\n",
              "    </tr>\n",
              "    <tr>\n",
              "      <th>197</th>\n",
              "      <td>0</td>\n",
              "      <td>32</td>\n",
              "      <td>126</td>\n",
              "      <td>74</td>\n",
              "    </tr>\n",
              "    <tr>\n",
              "      <th>198</th>\n",
              "      <td>0</td>\n",
              "      <td>32</td>\n",
              "      <td>137</td>\n",
              "      <td>18</td>\n",
              "    </tr>\n",
              "    <tr>\n",
              "      <th>199</th>\n",
              "      <td>0</td>\n",
              "      <td>30</td>\n",
              "      <td>137</td>\n",
              "      <td>83</td>\n",
              "    </tr>\n",
              "  </tbody>\n",
              "</table>\n",
              "<p>200 rows × 4 columns</p>\n",
              "</div>"
            ],
            "text/plain": [
              "     Gender  Age  Annual Income  Spending Score\n",
              "0         0   19             15              39\n",
              "1         0   21             15              81\n",
              "2         1   20             16               6\n",
              "3         1   23             16              77\n",
              "4         1   31             17              40\n",
              "..      ...  ...            ...             ...\n",
              "195       1   35            120              79\n",
              "196       1   45            126              28\n",
              "197       0   32            126              74\n",
              "198       0   32            137              18\n",
              "199       0   30            137              83\n",
              "\n",
              "[200 rows x 4 columns]"
            ]
          },
          "metadata": {
            "tags": []
          },
          "execution_count": 13
        }
      ]
    },
    {
      "cell_type": "markdown",
      "metadata": {
        "id": "GDiSPqI_TmHJ"
      },
      "source": [
        "## 5.1 Evaluation with Silhouette Score"
      ]
    },
    {
      "cell_type": "code",
      "metadata": {
        "id": "r1BtxJQyTmHJ"
      },
      "source": [
        "import numpy as np\n",
        "scaler = StandardScaler()\n",
        "X_scaled = scaler.fit_transform(X)"
      ],
      "execution_count": null,
      "outputs": []
    },
    {
      "cell_type": "code",
      "metadata": {
        "id": "yZfImWtHTmHJ",
        "outputId": "8f6c76d6-e530-4256-be0a-819b99e18130"
      },
      "source": [
        "for eps in [i/10 for i in range(6,8)]:\n",
        "    for min_samples in range(7,10):\n",
        "        print('\\neps={}'.format(eps))\n",
        "        print('min_samples={}'.format(min_samples))\n",
        "        dbscan = DBSCAN(eps=eps, min_samples=min_samples)\n",
        "        labels = dbscan.fit_predict(X_scaled)\n",
        "        silh = silhouette_score(X_scaled, labels)\n",
        "        print(\"Clusters present: {}\".format(np.unique(labels)))\n",
        "        print(\"Clusters size: {}\".format(np.bincount(labels + 1)))\n",
        "        print('Silhouette Score: {}'.format(silh))"
      ],
      "execution_count": null,
      "outputs": [
        {
          "output_type": "stream",
          "text": [
            "\n",
            "eps=0.6\n",
            "min_samples=7\n",
            "Clusters present: [-1  0  1  2  3  4  5  6  7]\n",
            "Clusters size: [98  9 20 19 12  7  8 17 10]\n",
            "Silhouette Score: 0.07422790265515827\n",
            "\n",
            "eps=0.6\n",
            "min_samples=8\n",
            "Clusters present: [-1  0  1  2  3  4  5  6]\n",
            "Clusters size: [111   8  18  19   9   8  17  10]\n",
            "Silhouette Score: 0.02471513274426008\n",
            "\n",
            "eps=0.6\n",
            "min_samples=9\n",
            "Clusters present: [-1  0  1  2  3]\n",
            "Clusters size: [137  18  19   9  17]\n",
            "Silhouette Score: -0.018891339236761492\n",
            "\n",
            "eps=0.7\n",
            "min_samples=7\n",
            "Clusters present: [-1  0  1  2  3  4  5]\n",
            "Clusters size: [68 63  6 23 10 11 19]\n",
            "Silhouette Score: 0.1030135009001276\n",
            "\n",
            "eps=0.7\n",
            "min_samples=8\n",
            "Clusters present: [-1  0  1  2  3  4]\n",
            "Clusters size: [76 62 23 10 19 10]\n",
            "Silhouette Score: 0.12362026848194813\n",
            "\n",
            "eps=0.7\n",
            "min_samples=9\n",
            "Clusters present: [-1  0  1  2  3  4  5]\n",
            "Clusters size: [82 30 29 23 10 17  9]\n",
            "Silhouette Score: 0.14390667899426995\n"
          ],
          "name": "stdout"
        }
      ]
    },
    {
      "cell_type": "markdown",
      "metadata": {
        "id": "jd8sJoGYTmHK"
      },
      "source": [
        "**Kami memilih Silhoutte Score yang memiliki Score tertinggi yaitu:**\n",
        "- Eps = 0.7\n",
        "- min_samples = 9"
      ]
    },
    {
      "cell_type": "code",
      "metadata": {
        "id": "GU7ZaeBDTmHK"
      },
      "source": [
        "dbscan = DBSCAN(eps=0.7, min_samples=9)\n",
        "labels = dbscan.fit_predict(X_scaled)\n",
        "silh = silhouette_score(X_scaled, labels)"
      ],
      "execution_count": null,
      "outputs": []
    },
    {
      "cell_type": "markdown",
      "metadata": {
        "id": "lLKq2kfDTmHK"
      },
      "source": [
        "## 5.2 Result"
      ]
    },
    {
      "cell_type": "code",
      "metadata": {
        "id": "-NBgCJaDTmHK",
        "outputId": "bd5543d1-1a80-45c7-d695-0a3f08d5b96e"
      },
      "source": [
        "X_hc = X.copy()\n",
        "X_hc['cluster'] = labels\n",
        "X_hc.head()"
      ],
      "execution_count": null,
      "outputs": [
        {
          "output_type": "execute_result",
          "data": {
            "text/html": [
              "<div>\n",
              "<style scoped>\n",
              "    .dataframe tbody tr th:only-of-type {\n",
              "        vertical-align: middle;\n",
              "    }\n",
              "\n",
              "    .dataframe tbody tr th {\n",
              "        vertical-align: top;\n",
              "    }\n",
              "\n",
              "    .dataframe thead th {\n",
              "        text-align: right;\n",
              "    }\n",
              "</style>\n",
              "<table border=\"1\" class=\"dataframe\">\n",
              "  <thead>\n",
              "    <tr style=\"text-align: right;\">\n",
              "      <th></th>\n",
              "      <th>Gender</th>\n",
              "      <th>Age</th>\n",
              "      <th>Annual Income</th>\n",
              "      <th>Spending Score</th>\n",
              "      <th>cluster</th>\n",
              "    </tr>\n",
              "  </thead>\n",
              "  <tbody>\n",
              "    <tr>\n",
              "      <th>0</th>\n",
              "      <td>0</td>\n",
              "      <td>19</td>\n",
              "      <td>15</td>\n",
              "      <td>39</td>\n",
              "      <td>-1</td>\n",
              "    </tr>\n",
              "    <tr>\n",
              "      <th>1</th>\n",
              "      <td>0</td>\n",
              "      <td>21</td>\n",
              "      <td>15</td>\n",
              "      <td>81</td>\n",
              "      <td>-1</td>\n",
              "    </tr>\n",
              "    <tr>\n",
              "      <th>2</th>\n",
              "      <td>1</td>\n",
              "      <td>20</td>\n",
              "      <td>16</td>\n",
              "      <td>6</td>\n",
              "      <td>-1</td>\n",
              "    </tr>\n",
              "    <tr>\n",
              "      <th>3</th>\n",
              "      <td>1</td>\n",
              "      <td>23</td>\n",
              "      <td>16</td>\n",
              "      <td>77</td>\n",
              "      <td>0</td>\n",
              "    </tr>\n",
              "    <tr>\n",
              "      <th>4</th>\n",
              "      <td>1</td>\n",
              "      <td>31</td>\n",
              "      <td>17</td>\n",
              "      <td>40</td>\n",
              "      <td>-1</td>\n",
              "    </tr>\n",
              "  </tbody>\n",
              "</table>\n",
              "</div>"
            ],
            "text/plain": [
              "   Gender  Age  Annual Income  Spending Score  cluster\n",
              "0       0   19             15              39       -1\n",
              "1       0   21             15              81       -1\n",
              "2       1   20             16               6       -1\n",
              "3       1   23             16              77        0\n",
              "4       1   31             17              40       -1"
            ]
          },
          "metadata": {
            "tags": []
          },
          "execution_count": 17
        }
      ]
    },
    {
      "cell_type": "code",
      "metadata": {
        "id": "2scjznZKTmHL",
        "outputId": "3e9fa4a7-1ac9-4a1e-f210-4ef453f6a8e5"
      },
      "source": [
        "X_hc.cluster.unique()"
      ],
      "execution_count": null,
      "outputs": [
        {
          "output_type": "execute_result",
          "data": {
            "text/plain": [
              "array([-1,  0,  2,  1,  3,  5,  4], dtype=int64)"
            ]
          },
          "metadata": {
            "tags": []
          },
          "execution_count": 20
        }
      ]
    },
    {
      "cell_type": "markdown",
      "metadata": {
        "id": "7hXmTd2DTmHL"
      },
      "source": [
        "# 6. Analysis"
      ]
    },
    {
      "cell_type": "markdown",
      "metadata": {
        "id": "nwLcG4HgTmHL"
      },
      "source": [
        "## 6.1 Analysis Cluster based on Pivot Table"
      ]
    },
    {
      "cell_type": "code",
      "metadata": {
        "id": "FXwLk0CfTmHL",
        "outputId": "64ed394a-e673-461e-c1bf-c4dec80be983"
      },
      "source": [
        "import numpy as np\n",
        "pd.pivot_table(X_hc, values=['Annual Income', 'Spending Score', 'Age'],\n",
        "               index='cluster', aggfunc=[np.mean, np.max, np.min])"
      ],
      "execution_count": null,
      "outputs": [
        {
          "output_type": "execute_result",
          "data": {
            "text/html": [
              "<div>\n",
              "<style scoped>\n",
              "    .dataframe tbody tr th:only-of-type {\n",
              "        vertical-align: middle;\n",
              "    }\n",
              "\n",
              "    .dataframe tbody tr th {\n",
              "        vertical-align: top;\n",
              "    }\n",
              "\n",
              "    .dataframe thead tr th {\n",
              "        text-align: left;\n",
              "    }\n",
              "\n",
              "    .dataframe thead tr:last-of-type th {\n",
              "        text-align: right;\n",
              "    }\n",
              "</style>\n",
              "<table border=\"1\" class=\"dataframe\">\n",
              "  <thead>\n",
              "    <tr>\n",
              "      <th></th>\n",
              "      <th colspan=\"3\" halign=\"left\">mean</th>\n",
              "      <th colspan=\"3\" halign=\"left\">amax</th>\n",
              "      <th colspan=\"3\" halign=\"left\">amin</th>\n",
              "    </tr>\n",
              "    <tr>\n",
              "      <th></th>\n",
              "      <th>Age</th>\n",
              "      <th>Annual Income</th>\n",
              "      <th>Spending Score</th>\n",
              "      <th>Age</th>\n",
              "      <th>Annual Income</th>\n",
              "      <th>Spending Score</th>\n",
              "      <th>Age</th>\n",
              "      <th>Annual Income</th>\n",
              "      <th>Spending Score</th>\n",
              "    </tr>\n",
              "    <tr>\n",
              "      <th>cluster</th>\n",
              "      <th></th>\n",
              "      <th></th>\n",
              "      <th></th>\n",
              "      <th></th>\n",
              "      <th></th>\n",
              "      <th></th>\n",
              "      <th></th>\n",
              "      <th></th>\n",
              "      <th></th>\n",
              "    </tr>\n",
              "  </thead>\n",
              "  <tbody>\n",
              "    <tr>\n",
              "      <th>-1</th>\n",
              "      <td>38.414634</td>\n",
              "      <td>63.024390</td>\n",
              "      <td>38.670732</td>\n",
              "      <td>68</td>\n",
              "      <td>137</td>\n",
              "      <td>99</td>\n",
              "      <td>18</td>\n",
              "      <td>15</td>\n",
              "      <td>1</td>\n",
              "    </tr>\n",
              "    <tr>\n",
              "      <th>0</th>\n",
              "      <td>25.033333</td>\n",
              "      <td>47.633333</td>\n",
              "      <td>56.066667</td>\n",
              "      <td>34</td>\n",
              "      <td>76</td>\n",
              "      <td>87</td>\n",
              "      <td>18</td>\n",
              "      <td>16</td>\n",
              "      <td>29</td>\n",
              "    </tr>\n",
              "    <tr>\n",
              "      <th>1</th>\n",
              "      <td>51.034483</td>\n",
              "      <td>55.586207</td>\n",
              "      <td>47.965517</td>\n",
              "      <td>68</td>\n",
              "      <td>79</td>\n",
              "      <td>59</td>\n",
              "      <td>38</td>\n",
              "      <td>39</td>\n",
              "      <td>28</td>\n",
              "    </tr>\n",
              "    <tr>\n",
              "      <th>2</th>\n",
              "      <td>56.782609</td>\n",
              "      <td>55.347826</td>\n",
              "      <td>47.391304</td>\n",
              "      <td>70</td>\n",
              "      <td>77</td>\n",
              "      <td>60</td>\n",
              "      <td>40</td>\n",
              "      <td>39</td>\n",
              "      <td>35</td>\n",
              "    </tr>\n",
              "    <tr>\n",
              "      <th>3</th>\n",
              "      <td>21.600000</td>\n",
              "      <td>56.900000</td>\n",
              "      <td>52.600000</td>\n",
              "      <td>27</td>\n",
              "      <td>67</td>\n",
              "      <td>59</td>\n",
              "      <td>18</td>\n",
              "      <td>46</td>\n",
              "      <td>41</td>\n",
              "    </tr>\n",
              "    <tr>\n",
              "      <th>4</th>\n",
              "      <td>31.470588</td>\n",
              "      <td>80.470588</td>\n",
              "      <td>81.823529</td>\n",
              "      <td>38</td>\n",
              "      <td>98</td>\n",
              "      <td>95</td>\n",
              "      <td>27</td>\n",
              "      <td>70</td>\n",
              "      <td>71</td>\n",
              "    </tr>\n",
              "    <tr>\n",
              "      <th>5</th>\n",
              "      <td>36.888889</td>\n",
              "      <td>77.000000</td>\n",
              "      <td>87.666667</td>\n",
              "      <td>40</td>\n",
              "      <td>93</td>\n",
              "      <td>95</td>\n",
              "      <td>32</td>\n",
              "      <td>69</td>\n",
              "      <td>75</td>\n",
              "    </tr>\n",
              "  </tbody>\n",
              "</table>\n",
              "</div>"
            ],
            "text/plain": [
              "              mean                              amax                \\\n",
              "               Age Annual Income Spending Score  Age Annual Income   \n",
              "cluster                                                              \n",
              "-1       38.414634     63.024390      38.670732   68           137   \n",
              " 0       25.033333     47.633333      56.066667   34            76   \n",
              " 1       51.034483     55.586207      47.965517   68            79   \n",
              " 2       56.782609     55.347826      47.391304   70            77   \n",
              " 3       21.600000     56.900000      52.600000   27            67   \n",
              " 4       31.470588     80.470588      81.823529   38            98   \n",
              " 5       36.888889     77.000000      87.666667   40            93   \n",
              "\n",
              "                       amin                               \n",
              "        Spending Score  Age Annual Income Spending Score  \n",
              "cluster                                                   \n",
              "-1                  99   18            15              1  \n",
              " 0                  87   18            16             29  \n",
              " 1                  59   38            39             28  \n",
              " 2                  60   40            39             35  \n",
              " 3                  59   18            46             41  \n",
              " 4                  95   27            70             71  \n",
              " 5                  95   32            69             75  "
            ]
          },
          "metadata": {
            "tags": []
          },
          "execution_count": 24
        }
      ]
    },
    {
      "cell_type": "code",
      "metadata": {
        "id": "RkBvF4ymTmHM"
      },
      "source": [
        "a = pd.pivot_table(X_hc, values=['Annual Income', 'Spending Score', 'Age'],\n",
        "               index='cluster', aggfunc=[np.max, np.min])"
      ],
      "execution_count": null,
      "outputs": []
    },
    {
      "cell_type": "markdown",
      "metadata": {
        "id": "DiaGNa2MTmHM"
      },
      "source": [
        "#### Age<br>\n",
        "source =  https://sepakat.bappenas.go.id/wiki/Kelompok_Usia\n",
        "\n",
        "15-24 tahun: Kelompok usia muda.<br>\n",
        "25-34 tahun: Kelompok usia pekerja awal.<br>\n",
        "35-44 tahun: Kelompok usia paruh baya.<br>\n",
        "45-54 tahun: Kelompok usia pra-pensiun.<br>\n",
        "55-64 tahun: Kelompok usia pensiun.<br>\n",
        "\n",
        "#### Spending Score<br>\n",
        "<30: Rendah<br>\n",
        "30-60: Sedang<br>\n",
        "60> : Tinggi<br>\n",
        "\n",
        "#### Annual Income<br>\n",
        "\n",
        "<30: Rendah<br>\n",
        "30-60: Sedang<br>\n",
        "60>: Tinggi<br>"
      ]
    },
    {
      "cell_type": "markdown",
      "metadata": {
        "id": "Wdn0LgRFTmHM"
      },
      "source": [
        "- Cluster 0 adalah cluster dengan **rata-rata Age**=pekerja awal, **rata-rata Annual Income**=sedang dan **rata-rata Spending Score**=Sedang\n",
        "- Cluster 1 adalah dengan **rata-rata Age**=Pra-pensiun, **rata-rata Annual Income**=sedang dan **rata-rata Spending Score**=Sedang\n",
        "- Cluster 2 adalah dengan **rata-rata Age**=Pra-pensiun, **rata-rata Annual Income**=sedang dan **rata-rata Spending Score**=Sedang\n",
        "- Cluster 3 adalah dengan **rata-rata Age**=Usia muda, **rata-rata Annual Income**=sedang dan **rata-rata Spending Score**= Sedang\n",
        "- Cluster 4 adalah dengan **rata-rata Age**=Pekerja awal, **rata-rata Annual Income**=tinggi dan **rata-rata Spending Score**=tinggi\n",
        "- Cluster 5 adalah dengan **rata-rata Age**=Paruh baya dengan **rata-rata Annual Income**=tinggi dan **rata-rata Spending Score**=tinggi"
      ]
    },
    {
      "cell_type": "markdown",
      "metadata": {
        "id": "bsGrzM7QTmHN"
      },
      "source": [
        "## 6.2 Analysis per Cluster "
      ]
    },
    {
      "cell_type": "markdown",
      "metadata": {
        "id": "15kQGOKlTmHN"
      },
      "source": [
        "### Cluster 0"
      ]
    },
    {
      "cell_type": "code",
      "metadata": {
        "id": "n7MQ-hzgTmHN"
      },
      "source": [
        "cluster_0 = X_hc[X_hc['cluster']==0]"
      ],
      "execution_count": null,
      "outputs": []
    },
    {
      "cell_type": "code",
      "metadata": {
        "id": "KeV6QnzQTmHO",
        "outputId": "ad5863f7-53dc-4ad3-9737-6d0f5e7f7182"
      },
      "source": [
        "cluster_0"
      ],
      "execution_count": null,
      "outputs": [
        {
          "output_type": "execute_result",
          "data": {
            "text/html": [
              "<div>\n",
              "<style scoped>\n",
              "    .dataframe tbody tr th:only-of-type {\n",
              "        vertical-align: middle;\n",
              "    }\n",
              "\n",
              "    .dataframe tbody tr th {\n",
              "        vertical-align: top;\n",
              "    }\n",
              "\n",
              "    .dataframe thead th {\n",
              "        text-align: right;\n",
              "    }\n",
              "</style>\n",
              "<table border=\"1\" class=\"dataframe\">\n",
              "  <thead>\n",
              "    <tr style=\"text-align: right;\">\n",
              "      <th></th>\n",
              "      <th>Gender</th>\n",
              "      <th>Age</th>\n",
              "      <th>Annual Income</th>\n",
              "      <th>Spending Score</th>\n",
              "      <th>cluster</th>\n",
              "    </tr>\n",
              "  </thead>\n",
              "  <tbody>\n",
              "    <tr>\n",
              "      <th>3</th>\n",
              "      <td>1</td>\n",
              "      <td>23</td>\n",
              "      <td>16</td>\n",
              "      <td>77</td>\n",
              "      <td>0</td>\n",
              "    </tr>\n",
              "    <tr>\n",
              "      <th>5</th>\n",
              "      <td>1</td>\n",
              "      <td>22</td>\n",
              "      <td>17</td>\n",
              "      <td>76</td>\n",
              "      <td>0</td>\n",
              "    </tr>\n",
              "    <tr>\n",
              "      <th>13</th>\n",
              "      <td>1</td>\n",
              "      <td>24</td>\n",
              "      <td>20</td>\n",
              "      <td>77</td>\n",
              "      <td>0</td>\n",
              "    </tr>\n",
              "    <tr>\n",
              "      <th>29</th>\n",
              "      <td>1</td>\n",
              "      <td>23</td>\n",
              "      <td>29</td>\n",
              "      <td>87</td>\n",
              "      <td>0</td>\n",
              "    </tr>\n",
              "    <tr>\n",
              "      <th>31</th>\n",
              "      <td>1</td>\n",
              "      <td>21</td>\n",
              "      <td>30</td>\n",
              "      <td>73</td>\n",
              "      <td>0</td>\n",
              "    </tr>\n",
              "    <tr>\n",
              "      <th>35</th>\n",
              "      <td>1</td>\n",
              "      <td>21</td>\n",
              "      <td>33</td>\n",
              "      <td>81</td>\n",
              "      <td>0</td>\n",
              "    </tr>\n",
              "    <tr>\n",
              "      <th>37</th>\n",
              "      <td>1</td>\n",
              "      <td>30</td>\n",
              "      <td>34</td>\n",
              "      <td>73</td>\n",
              "      <td>0</td>\n",
              "    </tr>\n",
              "    <tr>\n",
              "      <th>39</th>\n",
              "      <td>1</td>\n",
              "      <td>20</td>\n",
              "      <td>37</td>\n",
              "      <td>75</td>\n",
              "      <td>0</td>\n",
              "    </tr>\n",
              "    <tr>\n",
              "      <th>43</th>\n",
              "      <td>1</td>\n",
              "      <td>31</td>\n",
              "      <td>39</td>\n",
              "      <td>61</td>\n",
              "      <td>0</td>\n",
              "    </tr>\n",
              "    <tr>\n",
              "      <th>45</th>\n",
              "      <td>1</td>\n",
              "      <td>24</td>\n",
              "      <td>39</td>\n",
              "      <td>65</td>\n",
              "      <td>0</td>\n",
              "    </tr>\n",
              "    <tr>\n",
              "      <th>47</th>\n",
              "      <td>1</td>\n",
              "      <td>27</td>\n",
              "      <td>40</td>\n",
              "      <td>47</td>\n",
              "      <td>0</td>\n",
              "    </tr>\n",
              "    <tr>\n",
              "      <th>48</th>\n",
              "      <td>1</td>\n",
              "      <td>29</td>\n",
              "      <td>40</td>\n",
              "      <td>42</td>\n",
              "      <td>0</td>\n",
              "    </tr>\n",
              "    <tr>\n",
              "      <th>49</th>\n",
              "      <td>1</td>\n",
              "      <td>31</td>\n",
              "      <td>40</td>\n",
              "      <td>42</td>\n",
              "      <td>0</td>\n",
              "    </tr>\n",
              "    <tr>\n",
              "      <th>52</th>\n",
              "      <td>1</td>\n",
              "      <td>31</td>\n",
              "      <td>43</td>\n",
              "      <td>54</td>\n",
              "      <td>0</td>\n",
              "    </tr>\n",
              "    <tr>\n",
              "      <th>58</th>\n",
              "      <td>1</td>\n",
              "      <td>27</td>\n",
              "      <td>46</td>\n",
              "      <td>51</td>\n",
              "      <td>0</td>\n",
              "    </tr>\n",
              "    <tr>\n",
              "      <th>69</th>\n",
              "      <td>1</td>\n",
              "      <td>32</td>\n",
              "      <td>48</td>\n",
              "      <td>47</td>\n",
              "      <td>0</td>\n",
              "    </tr>\n",
              "    <tr>\n",
              "      <th>78</th>\n",
              "      <td>1</td>\n",
              "      <td>23</td>\n",
              "      <td>54</td>\n",
              "      <td>52</td>\n",
              "      <td>0</td>\n",
              "    </tr>\n",
              "    <tr>\n",
              "      <th>84</th>\n",
              "      <td>1</td>\n",
              "      <td>21</td>\n",
              "      <td>54</td>\n",
              "      <td>57</td>\n",
              "      <td>0</td>\n",
              "    </tr>\n",
              "    <tr>\n",
              "      <th>87</th>\n",
              "      <td>1</td>\n",
              "      <td>22</td>\n",
              "      <td>57</td>\n",
              "      <td>55</td>\n",
              "      <td>0</td>\n",
              "    </tr>\n",
              "    <tr>\n",
              "      <th>88</th>\n",
              "      <td>1</td>\n",
              "      <td>34</td>\n",
              "      <td>58</td>\n",
              "      <td>60</td>\n",
              "      <td>0</td>\n",
              "    </tr>\n",
              "    <tr>\n",
              "      <th>94</th>\n",
              "      <td>1</td>\n",
              "      <td>32</td>\n",
              "      <td>60</td>\n",
              "      <td>42</td>\n",
              "      <td>0</td>\n",
              "    </tr>\n",
              "    <tr>\n",
              "      <th>97</th>\n",
              "      <td>1</td>\n",
              "      <td>27</td>\n",
              "      <td>60</td>\n",
              "      <td>50</td>\n",
              "      <td>0</td>\n",
              "    </tr>\n",
              "    <tr>\n",
              "      <th>100</th>\n",
              "      <td>1</td>\n",
              "      <td>23</td>\n",
              "      <td>62</td>\n",
              "      <td>41</td>\n",
              "      <td>0</td>\n",
              "    </tr>\n",
              "    <tr>\n",
              "      <th>105</th>\n",
              "      <td>1</td>\n",
              "      <td>21</td>\n",
              "      <td>62</td>\n",
              "      <td>42</td>\n",
              "      <td>0</td>\n",
              "    </tr>\n",
              "    <tr>\n",
              "      <th>111</th>\n",
              "      <td>1</td>\n",
              "      <td>19</td>\n",
              "      <td>63</td>\n",
              "      <td>54</td>\n",
              "      <td>0</td>\n",
              "    </tr>\n",
              "    <tr>\n",
              "      <th>114</th>\n",
              "      <td>1</td>\n",
              "      <td>18</td>\n",
              "      <td>65</td>\n",
              "      <td>48</td>\n",
              "      <td>0</td>\n",
              "    </tr>\n",
              "    <tr>\n",
              "      <th>115</th>\n",
              "      <td>1</td>\n",
              "      <td>19</td>\n",
              "      <td>65</td>\n",
              "      <td>50</td>\n",
              "      <td>0</td>\n",
              "    </tr>\n",
              "    <tr>\n",
              "      <th>124</th>\n",
              "      <td>1</td>\n",
              "      <td>23</td>\n",
              "      <td>70</td>\n",
              "      <td>29</td>\n",
              "      <td>0</td>\n",
              "    </tr>\n",
              "    <tr>\n",
              "      <th>132</th>\n",
              "      <td>1</td>\n",
              "      <td>25</td>\n",
              "      <td>72</td>\n",
              "      <td>34</td>\n",
              "      <td>0</td>\n",
              "    </tr>\n",
              "    <tr>\n",
              "      <th>142</th>\n",
              "      <td>1</td>\n",
              "      <td>28</td>\n",
              "      <td>76</td>\n",
              "      <td>40</td>\n",
              "      <td>0</td>\n",
              "    </tr>\n",
              "  </tbody>\n",
              "</table>\n",
              "</div>"
            ],
            "text/plain": [
              "     Gender  Age  Annual Income  Spending Score  cluster\n",
              "3         1   23             16              77        0\n",
              "5         1   22             17              76        0\n",
              "13        1   24             20              77        0\n",
              "29        1   23             29              87        0\n",
              "31        1   21             30              73        0\n",
              "35        1   21             33              81        0\n",
              "37        1   30             34              73        0\n",
              "39        1   20             37              75        0\n",
              "43        1   31             39              61        0\n",
              "45        1   24             39              65        0\n",
              "47        1   27             40              47        0\n",
              "48        1   29             40              42        0\n",
              "49        1   31             40              42        0\n",
              "52        1   31             43              54        0\n",
              "58        1   27             46              51        0\n",
              "69        1   32             48              47        0\n",
              "78        1   23             54              52        0\n",
              "84        1   21             54              57        0\n",
              "87        1   22             57              55        0\n",
              "88        1   34             58              60        0\n",
              "94        1   32             60              42        0\n",
              "97        1   27             60              50        0\n",
              "100       1   23             62              41        0\n",
              "105       1   21             62              42        0\n",
              "111       1   19             63              54        0\n",
              "114       1   18             65              48        0\n",
              "115       1   19             65              50        0\n",
              "124       1   23             70              29        0\n",
              "132       1   25             72              34        0\n",
              "142       1   28             76              40        0"
            ]
          },
          "metadata": {
            "tags": []
          },
          "execution_count": 24
        }
      ]
    },
    {
      "cell_type": "code",
      "metadata": {
        "id": "401HFyhTTmHO"
      },
      "source": [
        ""
      ],
      "execution_count": null,
      "outputs": []
    },
    {
      "cell_type": "code",
      "metadata": {
        "id": "hEsgd-z6TmHO",
        "outputId": "8da87488-cfdd-4e7f-d422-1e9d6c8180dd"
      },
      "source": [
        "a.loc[0] # min max di cluster 0"
      ],
      "execution_count": null,
      "outputs": [
        {
          "output_type": "execute_result",
          "data": {
            "text/plain": [
              "amax  Age               34\n",
              "      Annual Income     76\n",
              "      Spending Score    87\n",
              "amin  Age               18\n",
              "      Annual Income     16\n",
              "      Spending Score    29\n",
              "Name: 0, dtype: int64"
            ]
          },
          "metadata": {
            "tags": []
          },
          "execution_count": 27
        }
      ]
    },
    {
      "cell_type": "code",
      "metadata": {
        "id": "9FT3pUXYTmHO",
        "outputId": "ff491b23-7537-4246-f446-6f98902cc4e7"
      },
      "source": [
        "#Count Plot of Gender\n",
        "plt.figure(1 , figsize = (15 , 5))\n",
        "sns.countplot(y = 'Gender' , data = cluster_0)\n",
        "plt.show()"
      ],
      "execution_count": null,
      "outputs": [
        {
          "output_type": "display_data",
          "data": {
            "image/png": "[encoded data removed]",
            "text/plain": [
              "<Figure size 1080x360 with 1 Axes>"
            ]
          },
          "metadata": {
            "tags": [],
            "needs_background": "light"
          }
        }
      ]
    },
    {
      "cell_type": "markdown",
      "metadata": {
        "id": "jK44PnYhTmHP"
      },
      "source": [
        "Dari grafik di atas, ternyata pada cluster 0 secara keseluruhan diisi oleh **Female**"
      ]
    },
    {
      "cell_type": "code",
      "metadata": {
        "id": "Y8fnw_5QTmHP",
        "outputId": "bb40b8ba-bb58-4853-8f14-6247de84b4d0"
      },
      "source": [
        "#Ploting the Relation between Age , Annual Income and Spending Score\n",
        "plt.figure(1 , figsize = (15 , 7))\n",
        "n = 0 \n",
        "for x in ['Age' , 'Annual Income' , 'Spending Score']:\n",
        "    for y in ['Age' , 'Annual Income' , 'Spending Score']:\n",
        "        n += 1\n",
        "        plt.subplot(3 , 3 , n)\n",
        "        plt.subplots_adjust(hspace = 0.5 , wspace = 0.5)\n",
        "        sns.regplot(x = x , y = y , data = cluster_0)\n",
        "        plt.ylabel(y.split()[0]+' '+y.split()[1] if len(y.split()) > 1 else y )\n",
        "plt.show()"
      ],
      "execution_count": null,
      "outputs": [
        {
          "output_type": "display_data",
          "data": {
            "image/png": "[encoded data removed]",
            "text/plain": [
              "<Figure size 1080x504 with 9 Axes>"
            ]
          },
          "metadata": {
            "tags": [],
            "needs_background": "light"
          }
        }
      ]
    },
    {
      "cell_type": "markdown",
      "metadata": {
        "id": "T1wSV7XTTmHP"
      },
      "source": [
        "1. Jika kita lihat pada grafik **Spending Score vs Annual Income**<br>\n",
        "\n",
        "Terlihat sebuah trend yang menurun, dimana ketika Annual Income membesar tetapi Spending Score menurun.<br>\n",
        "\n",
        "Artinya kami harus memberikan treatment pada cluster ini agar customer yang memiliki Annual Income besar mau berbelanja lebih banyak di toko kami."
      ]
    },
    {
      "cell_type": "markdown",
      "metadata": {
        "id": "jCIlnjZhTmHQ"
      },
      "source": [
        "# -----------------------------------------------------------------------------------------------------------"
      ]
    },
    {
      "cell_type": "markdown",
      "metadata": {
        "id": "O4DuXCuCTmHQ"
      },
      "source": [
        "### Cluster 1"
      ]
    },
    {
      "cell_type": "code",
      "metadata": {
        "id": "I6-3OPeKTmHR"
      },
      "source": [
        "cluster_1 = X_hc[X_hc['cluster']==1]"
      ],
      "execution_count": null,
      "outputs": []
    },
    {
      "cell_type": "code",
      "metadata": {
        "id": "6XXXwZovTmHR",
        "outputId": "d073d56d-7c6b-457e-abd3-980b1a5dcafa"
      },
      "source": [
        "cluster_1"
      ],
      "execution_count": null,
      "outputs": [
        {
          "output_type": "execute_result",
          "data": {
            "text/html": [
              "<div>\n",
              "<style scoped>\n",
              "    .dataframe tbody tr th:only-of-type {\n",
              "        vertical-align: middle;\n",
              "    }\n",
              "\n",
              "    .dataframe tbody tr th {\n",
              "        vertical-align: top;\n",
              "    }\n",
              "\n",
              "    .dataframe thead th {\n",
              "        text-align: right;\n",
              "    }\n",
              "</style>\n",
              "<table border=\"1\" class=\"dataframe\">\n",
              "  <thead>\n",
              "    <tr style=\"text-align: right;\">\n",
              "      <th></th>\n",
              "      <th>Gender</th>\n",
              "      <th>Age</th>\n",
              "      <th>Annual Income</th>\n",
              "      <th>Spending Score</th>\n",
              "      <th>cluster</th>\n",
              "    </tr>\n",
              "  </thead>\n",
              "  <tbody>\n",
              "    <tr>\n",
              "      <th>44</th>\n",
              "      <td>1</td>\n",
              "      <td>49</td>\n",
              "      <td>39</td>\n",
              "      <td>28</td>\n",
              "      <td>1</td>\n",
              "    </tr>\n",
              "    <tr>\n",
              "      <th>46</th>\n",
              "      <td>1</td>\n",
              "      <td>50</td>\n",
              "      <td>40</td>\n",
              "      <td>55</td>\n",
              "      <td>1</td>\n",
              "    </tr>\n",
              "    <tr>\n",
              "      <th>50</th>\n",
              "      <td>1</td>\n",
              "      <td>49</td>\n",
              "      <td>42</td>\n",
              "      <td>52</td>\n",
              "      <td>1</td>\n",
              "    </tr>\n",
              "    <tr>\n",
              "      <th>54</th>\n",
              "      <td>1</td>\n",
              "      <td>50</td>\n",
              "      <td>43</td>\n",
              "      <td>45</td>\n",
              "      <td>1</td>\n",
              "    </tr>\n",
              "    <tr>\n",
              "      <th>56</th>\n",
              "      <td>1</td>\n",
              "      <td>51</td>\n",
              "      <td>44</td>\n",
              "      <td>50</td>\n",
              "      <td>1</td>\n",
              "    </tr>\n",
              "    <tr>\n",
              "      <th>62</th>\n",
              "      <td>1</td>\n",
              "      <td>67</td>\n",
              "      <td>47</td>\n",
              "      <td>52</td>\n",
              "      <td>1</td>\n",
              "    </tr>\n",
              "    <tr>\n",
              "      <th>63</th>\n",
              "      <td>1</td>\n",
              "      <td>54</td>\n",
              "      <td>47</td>\n",
              "      <td>59</td>\n",
              "      <td>1</td>\n",
              "    </tr>\n",
              "    <tr>\n",
              "      <th>66</th>\n",
              "      <td>1</td>\n",
              "      <td>43</td>\n",
              "      <td>48</td>\n",
              "      <td>50</td>\n",
              "      <td>1</td>\n",
              "    </tr>\n",
              "    <tr>\n",
              "      <th>67</th>\n",
              "      <td>1</td>\n",
              "      <td>68</td>\n",
              "      <td>48</td>\n",
              "      <td>48</td>\n",
              "      <td>1</td>\n",
              "    </tr>\n",
              "    <tr>\n",
              "      <th>71</th>\n",
              "      <td>1</td>\n",
              "      <td>47</td>\n",
              "      <td>49</td>\n",
              "      <td>42</td>\n",
              "      <td>1</td>\n",
              "    </tr>\n",
              "    <tr>\n",
              "      <th>72</th>\n",
              "      <td>1</td>\n",
              "      <td>60</td>\n",
              "      <td>50</td>\n",
              "      <td>49</td>\n",
              "      <td>1</td>\n",
              "    </tr>\n",
              "    <tr>\n",
              "      <th>73</th>\n",
              "      <td>1</td>\n",
              "      <td>60</td>\n",
              "      <td>50</td>\n",
              "      <td>56</td>\n",
              "      <td>1</td>\n",
              "    </tr>\n",
              "    <tr>\n",
              "      <th>76</th>\n",
              "      <td>1</td>\n",
              "      <td>45</td>\n",
              "      <td>54</td>\n",
              "      <td>53</td>\n",
              "      <td>1</td>\n",
              "    </tr>\n",
              "    <tr>\n",
              "      <th>79</th>\n",
              "      <td>1</td>\n",
              "      <td>49</td>\n",
              "      <td>54</td>\n",
              "      <td>42</td>\n",
              "      <td>1</td>\n",
              "    </tr>\n",
              "    <tr>\n",
              "      <th>83</th>\n",
              "      <td>1</td>\n",
              "      <td>46</td>\n",
              "      <td>54</td>\n",
              "      <td>44</td>\n",
              "      <td>1</td>\n",
              "    </tr>\n",
              "    <tr>\n",
              "      <th>86</th>\n",
              "      <td>1</td>\n",
              "      <td>55</td>\n",
              "      <td>57</td>\n",
              "      <td>58</td>\n",
              "      <td>1</td>\n",
              "    </tr>\n",
              "    <tr>\n",
              "      <th>89</th>\n",
              "      <td>1</td>\n",
              "      <td>50</td>\n",
              "      <td>58</td>\n",
              "      <td>46</td>\n",
              "      <td>1</td>\n",
              "    </tr>\n",
              "    <tr>\n",
              "      <th>93</th>\n",
              "      <td>1</td>\n",
              "      <td>40</td>\n",
              "      <td>60</td>\n",
              "      <td>40</td>\n",
              "      <td>1</td>\n",
              "    </tr>\n",
              "    <tr>\n",
              "      <th>96</th>\n",
              "      <td>1</td>\n",
              "      <td>47</td>\n",
              "      <td>60</td>\n",
              "      <td>47</td>\n",
              "      <td>1</td>\n",
              "    </tr>\n",
              "    <tr>\n",
              "      <th>101</th>\n",
              "      <td>1</td>\n",
              "      <td>49</td>\n",
              "      <td>62</td>\n",
              "      <td>48</td>\n",
              "      <td>1</td>\n",
              "    </tr>\n",
              "    <tr>\n",
              "      <th>106</th>\n",
              "      <td>1</td>\n",
              "      <td>66</td>\n",
              "      <td>63</td>\n",
              "      <td>50</td>\n",
              "      <td>1</td>\n",
              "    </tr>\n",
              "    <tr>\n",
              "      <th>112</th>\n",
              "      <td>1</td>\n",
              "      <td>38</td>\n",
              "      <td>64</td>\n",
              "      <td>42</td>\n",
              "      <td>1</td>\n",
              "    </tr>\n",
              "    <tr>\n",
              "      <th>116</th>\n",
              "      <td>1</td>\n",
              "      <td>63</td>\n",
              "      <td>65</td>\n",
              "      <td>43</td>\n",
              "      <td>1</td>\n",
              "    </tr>\n",
              "    <tr>\n",
              "      <th>117</th>\n",
              "      <td>1</td>\n",
              "      <td>49</td>\n",
              "      <td>65</td>\n",
              "      <td>59</td>\n",
              "      <td>1</td>\n",
              "    </tr>\n",
              "    <tr>\n",
              "      <th>118</th>\n",
              "      <td>1</td>\n",
              "      <td>51</td>\n",
              "      <td>67</td>\n",
              "      <td>43</td>\n",
              "      <td>1</td>\n",
              "    </tr>\n",
              "    <tr>\n",
              "      <th>119</th>\n",
              "      <td>1</td>\n",
              "      <td>50</td>\n",
              "      <td>67</td>\n",
              "      <td>57</td>\n",
              "      <td>1</td>\n",
              "    </tr>\n",
              "    <tr>\n",
              "      <th>121</th>\n",
              "      <td>1</td>\n",
              "      <td>38</td>\n",
              "      <td>67</td>\n",
              "      <td>40</td>\n",
              "      <td>1</td>\n",
              "    </tr>\n",
              "    <tr>\n",
              "      <th>122</th>\n",
              "      <td>1</td>\n",
              "      <td>40</td>\n",
              "      <td>69</td>\n",
              "      <td>58</td>\n",
              "      <td>1</td>\n",
              "    </tr>\n",
              "    <tr>\n",
              "      <th>160</th>\n",
              "      <td>1</td>\n",
              "      <td>56</td>\n",
              "      <td>79</td>\n",
              "      <td>35</td>\n",
              "      <td>1</td>\n",
              "    </tr>\n",
              "  </tbody>\n",
              "</table>\n",
              "</div>"
            ],
            "text/plain": [
              "     Gender  Age  Annual Income  Spending Score  cluster\n",
              "44        1   49             39              28        1\n",
              "46        1   50             40              55        1\n",
              "50        1   49             42              52        1\n",
              "54        1   50             43              45        1\n",
              "56        1   51             44              50        1\n",
              "62        1   67             47              52        1\n",
              "63        1   54             47              59        1\n",
              "66        1   43             48              50        1\n",
              "67        1   68             48              48        1\n",
              "71        1   47             49              42        1\n",
              "72        1   60             50              49        1\n",
              "73        1   60             50              56        1\n",
              "76        1   45             54              53        1\n",
              "79        1   49             54              42        1\n",
              "83        1   46             54              44        1\n",
              "86        1   55             57              58        1\n",
              "89        1   50             58              46        1\n",
              "93        1   40             60              40        1\n",
              "96        1   47             60              47        1\n",
              "101       1   49             62              48        1\n",
              "106       1   66             63              50        1\n",
              "112       1   38             64              42        1\n",
              "116       1   63             65              43        1\n",
              "117       1   49             65              59        1\n",
              "118       1   51             67              43        1\n",
              "119       1   50             67              57        1\n",
              "121       1   38             67              40        1\n",
              "122       1   40             69              58        1\n",
              "160       1   56             79              35        1"
            ]
          },
          "metadata": {
            "tags": []
          },
          "execution_count": 33
        }
      ]
    },
    {
      "cell_type": "code",
      "metadata": {
        "id": "M1Qg-F0QTmHR",
        "outputId": "26e3bca8-3ee7-4a65-eb97-f0bb3a1127a1"
      },
      "source": [
        "a.loc[1] # min max di cluster 1"
      ],
      "execution_count": null,
      "outputs": [
        {
          "output_type": "execute_result",
          "data": {
            "text/plain": [
              "amax  Age               68\n",
              "      Annual Income     79\n",
              "      Spending Score    59\n",
              "amin  Age               38\n",
              "      Annual Income     39\n",
              "      Spending Score    28\n",
              "Name: 1, dtype: int64"
            ]
          },
          "metadata": {
            "tags": []
          },
          "execution_count": 28
        }
      ]
    },
    {
      "cell_type": "code",
      "metadata": {
        "id": "MOZ503qWTmHR",
        "outputId": "b3ee3753-399e-4561-b87f-2b175843fa69"
      },
      "source": [
        "#Count Plot of Gender\n",
        "plt.figure(1 , figsize = (15 , 5))\n",
        "sns.countplot(y = 'Gender' , data = cluster_1)\n",
        "plt.show()"
      ],
      "execution_count": null,
      "outputs": [
        {
          "output_type": "display_data",
          "data": {
            "image/png": "[encoded data removed]",
            "text/plain": [
              "<Figure size 1080x360 with 1 Axes>"
            ]
          },
          "metadata": {
            "tags": [],
            "needs_background": "light"
          }
        }
      ]
    },
    {
      "cell_type": "markdown",
      "metadata": {
        "id": "GmWs4oNOTmHS"
      },
      "source": [
        "Dari grafik di atas, ternyata pada cluster 1 secara keseluruhan diisi oleh **Female**"
      ]
    },
    {
      "cell_type": "code",
      "metadata": {
        "id": "_K64QEaqTmHS",
        "outputId": "17bb4052-c904-4bb3-bc76-5d0d55b26ad6"
      },
      "source": [
        "#Ploting the Relation between Age , Annual Income and Spending Score\n",
        "plt.figure(1 , figsize = (15 , 7))\n",
        "n = 0 \n",
        "for x in ['Age' , 'Annual Income' , 'Spending Score']:\n",
        "    for y in ['Age' , 'Annual Income' , 'Spending Score']:\n",
        "        n += 1\n",
        "        plt.subplot(3 , 3 , n)\n",
        "        plt.subplots_adjust(hspace = 0.5 , wspace = 0.5)\n",
        "        sns.regplot(x = x , y = y , data = cluster_1)\n",
        "        plt.ylabel(y.split()[0]+' '+y.split()[1] if len(y.split()) > 1 else y )\n",
        "plt.show()"
      ],
      "execution_count": null,
      "outputs": [
        {
          "output_type": "display_data",
          "data": {
            "image/png": "[encoded data removed]",
            "text/plain": [
              "<Figure size 1080x504 with 9 Axes>"
            ]
          },
          "metadata": {
            "tags": [],
            "needs_background": "light"
          }
        }
      ]
    },
    {
      "cell_type": "markdown",
      "metadata": {
        "id": "IHsVMVISTmHS"
      },
      "source": [
        "1. Jika kita lihat pada grafik **Spending Score vs Annual Income**<br>\n",
        "\n",
        "Hampir tidak ada trend, dimana ketika Annual Income berapapun Spending Score memiliki score yang sama yaitu 50.<br>\n",
        "\n",
        "2. Jika kita lihat pada grafik **Spending Score vs Age**<br>\n",
        "\n",
        "terlihat ada sebuah trend naik, ketika Age bertambah maka Spending Score bertambah\n",
        "\n",
        "Artinya kami harus memberikan treatment pada cluster ini agar customer yang memiliki Age sekitar 40 an mau berbelanja lebih banyak di toko kami."
      ]
    },
    {
      "cell_type": "markdown",
      "metadata": {
        "id": "pyEmV9G4TmHT"
      },
      "source": [
        "# -------------------------------------------------------------------------------------------------------------"
      ]
    },
    {
      "cell_type": "markdown",
      "metadata": {
        "id": "Sd_w-RXSTmHT"
      },
      "source": [
        "### Cluster 2"
      ]
    },
    {
      "cell_type": "code",
      "metadata": {
        "id": "PHULW9WNTmHT"
      },
      "source": [
        "cluster_2 = X_hc[X_hc['cluster']==2]"
      ],
      "execution_count": null,
      "outputs": []
    },
    {
      "cell_type": "code",
      "metadata": {
        "id": "5otCFM2aTmHT",
        "outputId": "ee185487-6c12-45bf-b06e-686a4561dc66"
      },
      "source": [
        "cluster_2"
      ],
      "execution_count": null,
      "outputs": [
        {
          "output_type": "execute_result",
          "data": {
            "text/html": [
              "<div>\n",
              "<style scoped>\n",
              "    .dataframe tbody tr th:only-of-type {\n",
              "        vertical-align: middle;\n",
              "    }\n",
              "\n",
              "    .dataframe tbody tr th {\n",
              "        vertical-align: top;\n",
              "    }\n",
              "\n",
              "    .dataframe thead th {\n",
              "        text-align: right;\n",
              "    }\n",
              "</style>\n",
              "<table border=\"1\" class=\"dataframe\">\n",
              "  <thead>\n",
              "    <tr style=\"text-align: right;\">\n",
              "      <th></th>\n",
              "      <th>Gender</th>\n",
              "      <th>Age</th>\n",
              "      <th>Annual Income</th>\n",
              "      <th>Spending Score</th>\n",
              "      <th>cluster</th>\n",
              "    </tr>\n",
              "  </thead>\n",
              "  <tbody>\n",
              "    <tr>\n",
              "      <th>42</th>\n",
              "      <td>0</td>\n",
              "      <td>48</td>\n",
              "      <td>39</td>\n",
              "      <td>36</td>\n",
              "      <td>2</td>\n",
              "    </tr>\n",
              "    <tr>\n",
              "      <th>53</th>\n",
              "      <td>0</td>\n",
              "      <td>59</td>\n",
              "      <td>43</td>\n",
              "      <td>60</td>\n",
              "      <td>2</td>\n",
              "    </tr>\n",
              "    <tr>\n",
              "      <th>55</th>\n",
              "      <td>0</td>\n",
              "      <td>47</td>\n",
              "      <td>43</td>\n",
              "      <td>41</td>\n",
              "      <td>2</td>\n",
              "    </tr>\n",
              "    <tr>\n",
              "      <th>57</th>\n",
              "      <td>0</td>\n",
              "      <td>69</td>\n",
              "      <td>44</td>\n",
              "      <td>46</td>\n",
              "      <td>2</td>\n",
              "    </tr>\n",
              "    <tr>\n",
              "      <th>59</th>\n",
              "      <td>0</td>\n",
              "      <td>53</td>\n",
              "      <td>46</td>\n",
              "      <td>46</td>\n",
              "      <td>2</td>\n",
              "    </tr>\n",
              "    <tr>\n",
              "      <th>60</th>\n",
              "      <td>0</td>\n",
              "      <td>70</td>\n",
              "      <td>46</td>\n",
              "      <td>56</td>\n",
              "      <td>2</td>\n",
              "    </tr>\n",
              "    <tr>\n",
              "      <th>64</th>\n",
              "      <td>0</td>\n",
              "      <td>63</td>\n",
              "      <td>48</td>\n",
              "      <td>51</td>\n",
              "      <td>2</td>\n",
              "    </tr>\n",
              "    <tr>\n",
              "      <th>70</th>\n",
              "      <td>0</td>\n",
              "      <td>70</td>\n",
              "      <td>49</td>\n",
              "      <td>55</td>\n",
              "      <td>2</td>\n",
              "    </tr>\n",
              "    <tr>\n",
              "      <th>74</th>\n",
              "      <td>0</td>\n",
              "      <td>59</td>\n",
              "      <td>54</td>\n",
              "      <td>47</td>\n",
              "      <td>2</td>\n",
              "    </tr>\n",
              "    <tr>\n",
              "      <th>77</th>\n",
              "      <td>0</td>\n",
              "      <td>40</td>\n",
              "      <td>54</td>\n",
              "      <td>48</td>\n",
              "      <td>2</td>\n",
              "    </tr>\n",
              "    <tr>\n",
              "      <th>80</th>\n",
              "      <td>0</td>\n",
              "      <td>57</td>\n",
              "      <td>54</td>\n",
              "      <td>51</td>\n",
              "      <td>2</td>\n",
              "    </tr>\n",
              "    <tr>\n",
              "      <th>82</th>\n",
              "      <td>0</td>\n",
              "      <td>67</td>\n",
              "      <td>54</td>\n",
              "      <td>41</td>\n",
              "      <td>2</td>\n",
              "    </tr>\n",
              "    <tr>\n",
              "      <th>85</th>\n",
              "      <td>0</td>\n",
              "      <td>48</td>\n",
              "      <td>54</td>\n",
              "      <td>46</td>\n",
              "      <td>2</td>\n",
              "    </tr>\n",
              "    <tr>\n",
              "      <th>92</th>\n",
              "      <td>0</td>\n",
              "      <td>48</td>\n",
              "      <td>60</td>\n",
              "      <td>49</td>\n",
              "      <td>2</td>\n",
              "    </tr>\n",
              "    <tr>\n",
              "      <th>98</th>\n",
              "      <td>0</td>\n",
              "      <td>48</td>\n",
              "      <td>61</td>\n",
              "      <td>42</td>\n",
              "      <td>2</td>\n",
              "    </tr>\n",
              "    <tr>\n",
              "      <th>102</th>\n",
              "      <td>0</td>\n",
              "      <td>67</td>\n",
              "      <td>62</td>\n",
              "      <td>59</td>\n",
              "      <td>2</td>\n",
              "    </tr>\n",
              "    <tr>\n",
              "      <th>104</th>\n",
              "      <td>0</td>\n",
              "      <td>49</td>\n",
              "      <td>62</td>\n",
              "      <td>56</td>\n",
              "      <td>2</td>\n",
              "    </tr>\n",
              "    <tr>\n",
              "      <th>107</th>\n",
              "      <td>0</td>\n",
              "      <td>54</td>\n",
              "      <td>63</td>\n",
              "      <td>46</td>\n",
              "      <td>2</td>\n",
              "    </tr>\n",
              "    <tr>\n",
              "      <th>108</th>\n",
              "      <td>0</td>\n",
              "      <td>68</td>\n",
              "      <td>63</td>\n",
              "      <td>43</td>\n",
              "      <td>2</td>\n",
              "    </tr>\n",
              "    <tr>\n",
              "      <th>109</th>\n",
              "      <td>0</td>\n",
              "      <td>66</td>\n",
              "      <td>63</td>\n",
              "      <td>48</td>\n",
              "      <td>2</td>\n",
              "    </tr>\n",
              "    <tr>\n",
              "      <th>110</th>\n",
              "      <td>0</td>\n",
              "      <td>65</td>\n",
              "      <td>63</td>\n",
              "      <td>52</td>\n",
              "      <td>2</td>\n",
              "    </tr>\n",
              "    <tr>\n",
              "      <th>126</th>\n",
              "      <td>0</td>\n",
              "      <td>43</td>\n",
              "      <td>71</td>\n",
              "      <td>35</td>\n",
              "      <td>2</td>\n",
              "    </tr>\n",
              "    <tr>\n",
              "      <th>146</th>\n",
              "      <td>0</td>\n",
              "      <td>48</td>\n",
              "      <td>77</td>\n",
              "      <td>36</td>\n",
              "      <td>2</td>\n",
              "    </tr>\n",
              "  </tbody>\n",
              "</table>\n",
              "</div>"
            ],
            "text/plain": [
              "     Gender  Age  Annual Income  Spending Score  cluster\n",
              "42        0   48             39              36        2\n",
              "53        0   59             43              60        2\n",
              "55        0   47             43              41        2\n",
              "57        0   69             44              46        2\n",
              "59        0   53             46              46        2\n",
              "60        0   70             46              56        2\n",
              "64        0   63             48              51        2\n",
              "70        0   70             49              55        2\n",
              "74        0   59             54              47        2\n",
              "77        0   40             54              48        2\n",
              "80        0   57             54              51        2\n",
              "82        0   67             54              41        2\n",
              "85        0   48             54              46        2\n",
              "92        0   48             60              49        2\n",
              "98        0   48             61              42        2\n",
              "102       0   67             62              59        2\n",
              "104       0   49             62              56        2\n",
              "107       0   54             63              46        2\n",
              "108       0   68             63              43        2\n",
              "109       0   66             63              48        2\n",
              "110       0   65             63              52        2\n",
              "126       0   43             71              35        2\n",
              "146       0   48             77              36        2"
            ]
          },
          "metadata": {
            "tags": []
          },
          "execution_count": 47
        }
      ]
    },
    {
      "cell_type": "code",
      "metadata": {
        "id": "VQAxS2PNTmHT",
        "outputId": "c011dc5e-e206-4482-865f-125423c25fbc"
      },
      "source": [
        "a.loc[2] # min max di cluster 2"
      ],
      "execution_count": null,
      "outputs": [
        {
          "output_type": "execute_result",
          "data": {
            "text/plain": [
              "amax  Age               70\n",
              "      Annual Income     77\n",
              "      Spending Score    60\n",
              "amin  Age               40\n",
              "      Annual Income     39\n",
              "      Spending Score    35\n",
              "Name: 2, dtype: int64"
            ]
          },
          "metadata": {
            "tags": []
          },
          "execution_count": 29
        }
      ]
    },
    {
      "cell_type": "code",
      "metadata": {
        "id": "j_2j8ZVyTmHU",
        "outputId": "be886532-de6f-4bd6-8a6f-8920fbaa1e25"
      },
      "source": [
        "#Count Plot of Gender\n",
        "plt.figure(1 , figsize = (15 , 5))\n",
        "sns.countplot(y = 'Gender' , data = cluster_2)\n",
        "plt.show()"
      ],
      "execution_count": null,
      "outputs": [
        {
          "output_type": "display_data",
          "data": {
            "image/png": "[encoded data removed]",
            "text/plain": [
              "<Figure size 1080x360 with 1 Axes>"
            ]
          },
          "metadata": {
            "tags": [],
            "needs_background": "light"
          }
        }
      ]
    },
    {
      "cell_type": "markdown",
      "metadata": {
        "id": "8i1hy5NpTmHU"
      },
      "source": [
        "Dari grafik di atas, ternyata pada cluster 2 secara keseluruhan diisi oleh **Male**"
      ]
    },
    {
      "cell_type": "code",
      "metadata": {
        "id": "3ChuCP2FTmHU",
        "outputId": "718f3921-f8b5-4909-dce0-905c12bc4044"
      },
      "source": [
        "#Ploting the Relation between Age , Annual Income and Spending Score\n",
        "plt.figure(1 , figsize = (15 , 7))\n",
        "n = 0 \n",
        "for x in ['Age' , 'Annual Income' , 'Spending Score']:\n",
        "    for y in ['Age' , 'Annual Income' , 'Spending Score']:\n",
        "        n += 1\n",
        "        plt.subplot(3 , 3 , n)\n",
        "        plt.subplots_adjust(hspace = 0.5 , wspace = 0.5)\n",
        "        sns.regplot(x = x , y = y , data = cluster_2)\n",
        "        plt.ylabel(y.split()[0]+' '+y.split()[1] if len(y.split()) > 1 else y )\n",
        "plt.show()"
      ],
      "execution_count": null,
      "outputs": [
        {
          "output_type": "display_data",
          "data": {
            "image/png": "[encoded data removed]",
            "text/plain": [
              "<Figure size 1080x504 with 9 Axes>"
            ]
          },
          "metadata": {
            "tags": [],
            "needs_background": "light"
          }
        }
      ]
    },
    {
      "cell_type": "markdown",
      "metadata": {
        "id": "MJReDW1CTmHU"
      },
      "source": [
        "1. Jika kita lihat pada grafik **Spending Score vs Annual Income**<br>\n",
        "\n",
        "Terlihat ada trend menurun, dimana ketika Annual Income membesar tetapi Spending Score menurun.<br>\n",
        "\n",
        "Artinya kami harus memberikan treatment pada cluster ini agar customer yang memiliki Annual Income tinggi mau berbelanja lebih di toko kami.\n",
        "\n",
        "2. Jika kita lihat pada grafik **Spending Score vs Age**<br>\n",
        "\n",
        "terlihat ada sebuah trend naik, ketika Age bertambah maka Spending Score bertambah\n",
        "\n",
        "Artinya kami harus memberikan treatment pada cluster ini agar customer yang memiliki Age sekitar 40 an mau berbelanja lebih"
      ]
    },
    {
      "cell_type": "markdown",
      "metadata": {
        "id": "GDDZhqvJTmHU"
      },
      "source": [
        "# ----------------------------------------------------------------------------------------------------------- "
      ]
    },
    {
      "cell_type": "markdown",
      "metadata": {
        "id": "8C9x_sFGTmHV"
      },
      "source": [
        "### Cluster 3"
      ]
    },
    {
      "cell_type": "code",
      "metadata": {
        "id": "CqxP9DSsTmHV"
      },
      "source": [
        "cluster_3 = X_hc[X_hc['cluster']==3]"
      ],
      "execution_count": null,
      "outputs": []
    },
    {
      "cell_type": "code",
      "metadata": {
        "id": "UclXftV7TmHV",
        "outputId": "599333e4-73df-41d9-cd41-963db3647ccd"
      },
      "source": [
        "cluster_3"
      ],
      "execution_count": null,
      "outputs": [
        {
          "output_type": "execute_result",
          "data": {
            "text/html": [
              "<div>\n",
              "<style scoped>\n",
              "    .dataframe tbody tr th:only-of-type {\n",
              "        vertical-align: middle;\n",
              "    }\n",
              "\n",
              "    .dataframe tbody tr th {\n",
              "        vertical-align: top;\n",
              "    }\n",
              "\n",
              "    .dataframe thead th {\n",
              "        text-align: right;\n",
              "    }\n",
              "</style>\n",
              "<table border=\"1\" class=\"dataframe\">\n",
              "  <thead>\n",
              "    <tr style=\"text-align: right;\">\n",
              "      <th></th>\n",
              "      <th>Gender</th>\n",
              "      <th>Age</th>\n",
              "      <th>Annual Income</th>\n",
              "      <th>Spending Score</th>\n",
              "      <th>cluster</th>\n",
              "    </tr>\n",
              "  </thead>\n",
              "  <tbody>\n",
              "    <tr>\n",
              "      <th>61</th>\n",
              "      <td>0</td>\n",
              "      <td>19</td>\n",
              "      <td>46</td>\n",
              "      <td>55</td>\n",
              "      <td>3</td>\n",
              "    </tr>\n",
              "    <tr>\n",
              "      <th>65</th>\n",
              "      <td>0</td>\n",
              "      <td>18</td>\n",
              "      <td>48</td>\n",
              "      <td>59</td>\n",
              "      <td>3</td>\n",
              "    </tr>\n",
              "    <tr>\n",
              "      <th>68</th>\n",
              "      <td>0</td>\n",
              "      <td>19</td>\n",
              "      <td>48</td>\n",
              "      <td>59</td>\n",
              "      <td>3</td>\n",
              "    </tr>\n",
              "    <tr>\n",
              "      <th>75</th>\n",
              "      <td>0</td>\n",
              "      <td>26</td>\n",
              "      <td>54</td>\n",
              "      <td>54</td>\n",
              "      <td>3</td>\n",
              "    </tr>\n",
              "    <tr>\n",
              "      <th>91</th>\n",
              "      <td>0</td>\n",
              "      <td>18</td>\n",
              "      <td>59</td>\n",
              "      <td>41</td>\n",
              "      <td>3</td>\n",
              "    </tr>\n",
              "    <tr>\n",
              "      <th>95</th>\n",
              "      <td>0</td>\n",
              "      <td>24</td>\n",
              "      <td>60</td>\n",
              "      <td>52</td>\n",
              "      <td>3</td>\n",
              "    </tr>\n",
              "    <tr>\n",
              "      <th>99</th>\n",
              "      <td>0</td>\n",
              "      <td>20</td>\n",
              "      <td>61</td>\n",
              "      <td>49</td>\n",
              "      <td>3</td>\n",
              "    </tr>\n",
              "    <tr>\n",
              "      <th>103</th>\n",
              "      <td>0</td>\n",
              "      <td>26</td>\n",
              "      <td>62</td>\n",
              "      <td>55</td>\n",
              "      <td>3</td>\n",
              "    </tr>\n",
              "    <tr>\n",
              "      <th>113</th>\n",
              "      <td>0</td>\n",
              "      <td>19</td>\n",
              "      <td>64</td>\n",
              "      <td>46</td>\n",
              "      <td>3</td>\n",
              "    </tr>\n",
              "    <tr>\n",
              "      <th>120</th>\n",
              "      <td>0</td>\n",
              "      <td>27</td>\n",
              "      <td>67</td>\n",
              "      <td>56</td>\n",
              "      <td>3</td>\n",
              "    </tr>\n",
              "  </tbody>\n",
              "</table>\n",
              "</div>"
            ],
            "text/plain": [
              "     Gender  Age  Annual Income  Spending Score  cluster\n",
              "61        0   19             46              55        3\n",
              "65        0   18             48              59        3\n",
              "68        0   19             48              59        3\n",
              "75        0   26             54              54        3\n",
              "91        0   18             59              41        3\n",
              "95        0   24             60              52        3\n",
              "99        0   20             61              49        3\n",
              "103       0   26             62              55        3\n",
              "113       0   19             64              46        3\n",
              "120       0   27             67              56        3"
            ]
          },
          "metadata": {
            "tags": []
          },
          "execution_count": 53
        }
      ]
    },
    {
      "cell_type": "code",
      "metadata": {
        "id": "_iTuChycTmHV",
        "outputId": "797ca96f-18f8-400b-ad59-9fc73457be3d"
      },
      "source": [
        "a.loc[3] # min max di cluster 3"
      ],
      "execution_count": null,
      "outputs": [
        {
          "output_type": "execute_result",
          "data": {
            "text/plain": [
              "amax  Age               27\n",
              "      Annual Income     67\n",
              "      Spending Score    59\n",
              "amin  Age               18\n",
              "      Annual Income     46\n",
              "      Spending Score    41\n",
              "Name: 3, dtype: int64"
            ]
          },
          "metadata": {
            "tags": []
          },
          "execution_count": 30
        }
      ]
    },
    {
      "cell_type": "code",
      "metadata": {
        "id": "pDmeeJC0TmHV",
        "outputId": "f275af5a-361c-4da0-e299-f9f5dc16552e"
      },
      "source": [
        "#Count Plot of Gender\n",
        "plt.figure(1 , figsize = (15 , 5))\n",
        "sns.countplot(y = 'Gender' , data = cluster_3)\n",
        "plt.show()"
      ],
      "execution_count": null,
      "outputs": [
        {
          "output_type": "display_data",
          "data": {
            "image/png": "[encoded data removed]",
            "text/plain": [
              "<Figure size 1080x360 with 1 Axes>"
            ]
          },
          "metadata": {
            "tags": [],
            "needs_background": "light"
          }
        }
      ]
    },
    {
      "cell_type": "markdown",
      "metadata": {
        "id": "pDoFH5t8TmHW"
      },
      "source": [
        "Dari grafik di atas, ternyata pada cluster 3 secara keseluruhan diisi oleh **Male**"
      ]
    },
    {
      "cell_type": "code",
      "metadata": {
        "id": "kNLJXtSmTmHW",
        "outputId": "e9e1fcca-7799-41e1-d3f5-828e055d0eab"
      },
      "source": [
        "#Ploting the Relation between Age , Annual Income and Spending Score\n",
        "plt.figure(1 , figsize = (15 , 7))\n",
        "n = 0 \n",
        "for x in ['Age' , 'Annual Income' , 'Spending Score']:\n",
        "    for y in ['Age' , 'Annual Income' , 'Spending Score']:\n",
        "        n += 1\n",
        "        plt.subplot(3 , 3 , n)\n",
        "        plt.subplots_adjust(hspace = 0.5 , wspace = 0.5)\n",
        "        sns.regplot(x = x , y = y , data = cluster_3)\n",
        "        plt.ylabel(y.split()[0]+' '+y.split()[1] if len(y.split()) > 1 else y )\n",
        "plt.show()"
      ],
      "execution_count": null,
      "outputs": [
        {
          "output_type": "display_data",
          "data": {
            "image/png": "[encoded data removed]",
            "text/plain": [
              "<Figure size 1080x504 with 9 Axes>"
            ]
          },
          "metadata": {
            "tags": [],
            "needs_background": "light"
          }
        }
      ]
    },
    {
      "cell_type": "markdown",
      "metadata": {
        "id": "zGWdHJIHTmHW"
      },
      "source": [
        "1. Jika kita lihat pada grafik **Spending Score vs Annual Income**<br>\n",
        "\n",
        "Terlihat ada trend menurun, dimana ketika Annual Income membesar tetapi Spending Score menurun.<br>\n",
        "\n",
        "Artinya kami harus memberikan treatment pada cluster ini agar customer yang memiliki Annual Income tinggi mau berbelanja lebih di toko kami."
      ]
    },
    {
      "cell_type": "markdown",
      "metadata": {
        "id": "AWfHIhJyTmHW"
      },
      "source": [
        "# --------------------------------------------------------------------------------------------------------------"
      ]
    },
    {
      "cell_type": "markdown",
      "metadata": {
        "id": "ZeVNxr7qTmHX"
      },
      "source": [
        "### Cluster 4"
      ]
    },
    {
      "cell_type": "code",
      "metadata": {
        "id": "CwaUwOQ_TmHX"
      },
      "source": [
        "cluster_4 = X_hc[X_hc['cluster']==4]"
      ],
      "execution_count": null,
      "outputs": []
    },
    {
      "cell_type": "code",
      "metadata": {
        "id": "_05d0Ez2TmHX",
        "outputId": "ad295e4f-96ea-4cd1-b18e-f7f44a963dca"
      },
      "source": [
        "cluster_4"
      ],
      "execution_count": null,
      "outputs": [
        {
          "output_type": "execute_result",
          "data": {
            "text/html": [
              "<div>\n",
              "<style scoped>\n",
              "    .dataframe tbody tr th:only-of-type {\n",
              "        vertical-align: middle;\n",
              "    }\n",
              "\n",
              "    .dataframe tbody tr th {\n",
              "        vertical-align: top;\n",
              "    }\n",
              "\n",
              "    .dataframe thead th {\n",
              "        text-align: right;\n",
              "    }\n",
              "</style>\n",
              "<table border=\"1\" class=\"dataframe\">\n",
              "  <thead>\n",
              "    <tr style=\"text-align: right;\">\n",
              "      <th></th>\n",
              "      <th>Gender</th>\n",
              "      <th>Age</th>\n",
              "      <th>Annual Income</th>\n",
              "      <th>Spending Score</th>\n",
              "      <th>cluster</th>\n",
              "    </tr>\n",
              "  </thead>\n",
              "  <tbody>\n",
              "    <tr>\n",
              "      <th>125</th>\n",
              "      <td>1</td>\n",
              "      <td>31</td>\n",
              "      <td>70</td>\n",
              "      <td>77</td>\n",
              "      <td>4</td>\n",
              "    </tr>\n",
              "    <tr>\n",
              "      <th>133</th>\n",
              "      <td>1</td>\n",
              "      <td>31</td>\n",
              "      <td>72</td>\n",
              "      <td>71</td>\n",
              "      <td>4</td>\n",
              "    </tr>\n",
              "    <tr>\n",
              "      <th>135</th>\n",
              "      <td>1</td>\n",
              "      <td>29</td>\n",
              "      <td>73</td>\n",
              "      <td>88</td>\n",
              "      <td>4</td>\n",
              "    </tr>\n",
              "    <tr>\n",
              "      <th>139</th>\n",
              "      <td>1</td>\n",
              "      <td>35</td>\n",
              "      <td>74</td>\n",
              "      <td>72</td>\n",
              "      <td>4</td>\n",
              "    </tr>\n",
              "    <tr>\n",
              "      <th>143</th>\n",
              "      <td>1</td>\n",
              "      <td>32</td>\n",
              "      <td>76</td>\n",
              "      <td>87</td>\n",
              "      <td>4</td>\n",
              "    </tr>\n",
              "    <tr>\n",
              "      <th>147</th>\n",
              "      <td>1</td>\n",
              "      <td>32</td>\n",
              "      <td>77</td>\n",
              "      <td>74</td>\n",
              "      <td>4</td>\n",
              "    </tr>\n",
              "    <tr>\n",
              "      <th>153</th>\n",
              "      <td>1</td>\n",
              "      <td>38</td>\n",
              "      <td>78</td>\n",
              "      <td>76</td>\n",
              "      <td>4</td>\n",
              "    </tr>\n",
              "    <tr>\n",
              "      <th>155</th>\n",
              "      <td>1</td>\n",
              "      <td>27</td>\n",
              "      <td>78</td>\n",
              "      <td>89</td>\n",
              "      <td>4</td>\n",
              "    </tr>\n",
              "    <tr>\n",
              "      <th>157</th>\n",
              "      <td>1</td>\n",
              "      <td>30</td>\n",
              "      <td>78</td>\n",
              "      <td>78</td>\n",
              "      <td>4</td>\n",
              "    </tr>\n",
              "    <tr>\n",
              "      <th>159</th>\n",
              "      <td>1</td>\n",
              "      <td>30</td>\n",
              "      <td>78</td>\n",
              "      <td>73</td>\n",
              "      <td>4</td>\n",
              "    </tr>\n",
              "    <tr>\n",
              "      <th>161</th>\n",
              "      <td>1</td>\n",
              "      <td>29</td>\n",
              "      <td>79</td>\n",
              "      <td>83</td>\n",
              "      <td>4</td>\n",
              "    </tr>\n",
              "    <tr>\n",
              "      <th>163</th>\n",
              "      <td>1</td>\n",
              "      <td>31</td>\n",
              "      <td>81</td>\n",
              "      <td>93</td>\n",
              "      <td>4</td>\n",
              "    </tr>\n",
              "    <tr>\n",
              "      <th>165</th>\n",
              "      <td>1</td>\n",
              "      <td>36</td>\n",
              "      <td>85</td>\n",
              "      <td>75</td>\n",
              "      <td>4</td>\n",
              "    </tr>\n",
              "    <tr>\n",
              "      <th>167</th>\n",
              "      <td>1</td>\n",
              "      <td>33</td>\n",
              "      <td>86</td>\n",
              "      <td>95</td>\n",
              "      <td>4</td>\n",
              "    </tr>\n",
              "    <tr>\n",
              "      <th>175</th>\n",
              "      <td>1</td>\n",
              "      <td>30</td>\n",
              "      <td>88</td>\n",
              "      <td>86</td>\n",
              "      <td>4</td>\n",
              "    </tr>\n",
              "    <tr>\n",
              "      <th>181</th>\n",
              "      <td>1</td>\n",
              "      <td>32</td>\n",
              "      <td>97</td>\n",
              "      <td>86</td>\n",
              "      <td>4</td>\n",
              "    </tr>\n",
              "    <tr>\n",
              "      <th>183</th>\n",
              "      <td>1</td>\n",
              "      <td>29</td>\n",
              "      <td>98</td>\n",
              "      <td>88</td>\n",
              "      <td>4</td>\n",
              "    </tr>\n",
              "  </tbody>\n",
              "</table>\n",
              "</div>"
            ],
            "text/plain": [
              "     Gender  Age  Annual Income  Spending Score  cluster\n",
              "125       1   31             70              77        4\n",
              "133       1   31             72              71        4\n",
              "135       1   29             73              88        4\n",
              "139       1   35             74              72        4\n",
              "143       1   32             76              87        4\n",
              "147       1   32             77              74        4\n",
              "153       1   38             78              76        4\n",
              "155       1   27             78              89        4\n",
              "157       1   30             78              78        4\n",
              "159       1   30             78              73        4\n",
              "161       1   29             79              83        4\n",
              "163       1   31             81              93        4\n",
              "165       1   36             85              75        4\n",
              "167       1   33             86              95        4\n",
              "175       1   30             88              86        4\n",
              "181       1   32             97              86        4\n",
              "183       1   29             98              88        4"
            ]
          },
          "metadata": {
            "tags": []
          },
          "execution_count": 60
        }
      ]
    },
    {
      "cell_type": "code",
      "metadata": {
        "id": "kGCMeVERTmHX",
        "outputId": "472dde58-cd52-4e1b-aaaf-066efb882af0"
      },
      "source": [
        "a.loc[4].T # min max di cluster 4"
      ],
      "execution_count": null,
      "outputs": [
        {
          "output_type": "execute_result",
          "data": {
            "text/plain": [
              "amax  Age               38\n",
              "      Annual Income     98\n",
              "      Spending Score    95\n",
              "amin  Age               27\n",
              "      Annual Income     70\n",
              "      Spending Score    71\n",
              "Name: 4, dtype: int64"
            ]
          },
          "metadata": {
            "tags": []
          },
          "execution_count": 34
        }
      ]
    },
    {
      "cell_type": "code",
      "metadata": {
        "id": "kBNZsm6aTmHX",
        "outputId": "beb7265f-2e4e-483c-aa35-af33e255b638"
      },
      "source": [
        "#Count Plot of Gender\n",
        "plt.figure(1 , figsize = (15 , 5))\n",
        "sns.countplot(y = 'Gender' , data = cluster_4)\n",
        "plt.show()"
      ],
      "execution_count": null,
      "outputs": [
        {
          "output_type": "display_data",
          "data": {
            "image/png": "[encoded data removed]",
            "text/plain": [
              "<Figure size 1080x360 with 1 Axes>"
            ]
          },
          "metadata": {
            "tags": [],
            "needs_background": "light"
          }
        }
      ]
    },
    {
      "cell_type": "markdown",
      "metadata": {
        "id": "87c5ZQvGTmHY"
      },
      "source": [
        "Dari grafik di atas, ternyata pada cluster 4 secara keseluruhan diisi oleh **Female**"
      ]
    },
    {
      "cell_type": "code",
      "metadata": {
        "id": "EOLjMBAgTmHY",
        "outputId": "9417b129-6ae2-4fa7-c0c8-87bf58db9b6f"
      },
      "source": [
        "#Ploting the Relation between Age , Annual Income and Spending Score\n",
        "plt.figure(1 , figsize = (15 , 7))\n",
        "n = 0 \n",
        "for x in ['Age' , 'Annual Income' , 'Spending Score']:\n",
        "    for y in ['Age' , 'Annual Income' , 'Spending Score']:\n",
        "        n += 1\n",
        "        plt.subplot(3 , 3 , n)\n",
        "        plt.subplots_adjust(hspace = 0.5 , wspace = 0.5)\n",
        "        sns.regplot(x = x , y = y , data = cluster_4)\n",
        "        plt.ylabel(y.split()[0]+' '+y.split()[1] if len(y.split()) > 1 else y )\n",
        "plt.show()"
      ],
      "execution_count": null,
      "outputs": [
        {
          "output_type": "display_data",
          "data": {
            "image/png": "[encoded data removed]",
            "text/plain": [
              "<Figure size 1080x504 with 9 Axes>"
            ]
          },
          "metadata": {
            "tags": [],
            "needs_background": "light"
          }
        }
      ]
    },
    {
      "cell_type": "markdown",
      "metadata": {
        "id": "bGr8NKQgTmHY"
      },
      "source": [
        "1. Jika kita lihat pada grafik **Spending Score vs Annual Income**<br>\n",
        "\n",
        "Terlihat ada trend naik, dimana ketika Annual Income membesar  Spending Score ikut membesar.<br>\n",
        "\n",
        "Menurut kami cluster ini sudah sesuai, sehingga tidak diperlukan treatment khusus.  "
      ]
    },
    {
      "cell_type": "markdown",
      "metadata": {
        "id": "iPR85IoHTmHZ"
      },
      "source": [
        "# ------------------------------------------------------------------------------------------------------------"
      ]
    },
    {
      "cell_type": "markdown",
      "metadata": {
        "id": "hZBf-iebTmHZ"
      },
      "source": [
        "### Cluster 5"
      ]
    },
    {
      "cell_type": "code",
      "metadata": {
        "id": "4skFQRuNTmHZ",
        "outputId": "7302ac6a-435d-4a09-d13d-bbfc3727d7c0"
      },
      "source": [
        "cluster_5 = X_hc[X_hc['cluster']==5]\n",
        "cluster_5"
      ],
      "execution_count": null,
      "outputs": [
        {
          "output_type": "execute_result",
          "data": {
            "text/html": [
              "<div>\n",
              "<style scoped>\n",
              "    .dataframe tbody tr th:only-of-type {\n",
              "        vertical-align: middle;\n",
              "    }\n",
              "\n",
              "    .dataframe tbody tr th {\n",
              "        vertical-align: top;\n",
              "    }\n",
              "\n",
              "    .dataframe thead th {\n",
              "        text-align: right;\n",
              "    }\n",
              "</style>\n",
              "<table border=\"1\" class=\"dataframe\">\n",
              "  <thead>\n",
              "    <tr style=\"text-align: right;\">\n",
              "      <th></th>\n",
              "      <th>Gender</th>\n",
              "      <th>Age</th>\n",
              "      <th>Annual Income</th>\n",
              "      <th>Spending Score</th>\n",
              "      <th>cluster</th>\n",
              "    </tr>\n",
              "  </thead>\n",
              "  <tbody>\n",
              "    <tr>\n",
              "      <th>123</th>\n",
              "      <td>0</td>\n",
              "      <td>39</td>\n",
              "      <td>69</td>\n",
              "      <td>91</td>\n",
              "      <td>5</td>\n",
              "    </tr>\n",
              "    <tr>\n",
              "      <th>127</th>\n",
              "      <td>0</td>\n",
              "      <td>40</td>\n",
              "      <td>71</td>\n",
              "      <td>95</td>\n",
              "      <td>5</td>\n",
              "    </tr>\n",
              "    <tr>\n",
              "      <th>129</th>\n",
              "      <td>0</td>\n",
              "      <td>38</td>\n",
              "      <td>71</td>\n",
              "      <td>75</td>\n",
              "      <td>5</td>\n",
              "    </tr>\n",
              "    <tr>\n",
              "      <th>131</th>\n",
              "      <td>0</td>\n",
              "      <td>39</td>\n",
              "      <td>71</td>\n",
              "      <td>75</td>\n",
              "      <td>5</td>\n",
              "    </tr>\n",
              "    <tr>\n",
              "      <th>141</th>\n",
              "      <td>0</td>\n",
              "      <td>32</td>\n",
              "      <td>75</td>\n",
              "      <td>93</td>\n",
              "      <td>5</td>\n",
              "    </tr>\n",
              "    <tr>\n",
              "      <th>149</th>\n",
              "      <td>0</td>\n",
              "      <td>34</td>\n",
              "      <td>78</td>\n",
              "      <td>90</td>\n",
              "      <td>5</td>\n",
              "    </tr>\n",
              "    <tr>\n",
              "      <th>151</th>\n",
              "      <td>0</td>\n",
              "      <td>39</td>\n",
              "      <td>78</td>\n",
              "      <td>88</td>\n",
              "      <td>5</td>\n",
              "    </tr>\n",
              "    <tr>\n",
              "      <th>173</th>\n",
              "      <td>0</td>\n",
              "      <td>36</td>\n",
              "      <td>87</td>\n",
              "      <td>92</td>\n",
              "      <td>5</td>\n",
              "    </tr>\n",
              "    <tr>\n",
              "      <th>179</th>\n",
              "      <td>0</td>\n",
              "      <td>35</td>\n",
              "      <td>93</td>\n",
              "      <td>90</td>\n",
              "      <td>5</td>\n",
              "    </tr>\n",
              "  </tbody>\n",
              "</table>\n",
              "</div>"
            ],
            "text/plain": [
              "     Gender  Age  Annual Income  Spending Score  cluster\n",
              "123       0   39             69              91        5\n",
              "127       0   40             71              95        5\n",
              "129       0   38             71              75        5\n",
              "131       0   39             71              75        5\n",
              "141       0   32             75              93        5\n",
              "149       0   34             78              90        5\n",
              "151       0   39             78              88        5\n",
              "173       0   36             87              92        5\n",
              "179       0   35             93              90        5"
            ]
          },
          "metadata": {
            "tags": []
          },
          "execution_count": 32
        }
      ]
    },
    {
      "cell_type": "code",
      "metadata": {
        "id": "8-DNMnyGTmHa",
        "outputId": "de357722-fd6b-4c18-a3ce-0c8f42f57715"
      },
      "source": [
        "a.loc[5] # min max di cluster 5"
      ],
      "execution_count": null,
      "outputs": [
        {
          "output_type": "execute_result",
          "data": {
            "text/plain": [
              "amax  Age               40\n",
              "      Annual Income     93\n",
              "      Spending Score    95\n",
              "amin  Age               32\n",
              "      Annual Income     69\n",
              "      Spending Score    75\n",
              "Name: 5, dtype: int64"
            ]
          },
          "metadata": {
            "tags": []
          },
          "execution_count": 33
        }
      ]
    },
    {
      "cell_type": "code",
      "metadata": {
        "id": "4QCDqFW_TmHa",
        "outputId": "b46b03cf-ab81-41ab-83e7-016ec3ac1372"
      },
      "source": [
        "#Count Plot of Gender\n",
        "plt.figure(1 , figsize = (15 , 5))\n",
        "sns.countplot(y = 'Gender' , data = cluster_5)\n",
        "plt.show()"
      ],
      "execution_count": null,
      "outputs": [
        {
          "output_type": "display_data",
          "data": {
            "image/png": "[encoded data removed]",
            "text/plain": [
              "<Figure size 1080x360 with 1 Axes>"
            ]
          },
          "metadata": {
            "tags": [],
            "needs_background": "light"
          }
        }
      ]
    },
    {
      "cell_type": "markdown",
      "metadata": {
        "id": "t2LbdirQTmHa"
      },
      "source": [
        "Dari grafik di atas, ternyata pada cluster 5 secara keseluruhan diisi oleh **Male**"
      ]
    },
    {
      "cell_type": "code",
      "metadata": {
        "id": "Lcyj2EcETmHa",
        "outputId": "3b0fb1ca-9b5f-4cf4-e9df-7983df52dd0c"
      },
      "source": [
        "#Ploting the Relation between Age , Annual Income and Spending Score\n",
        "plt.figure(1 , figsize = (15 , 7))\n",
        "n = 0 \n",
        "for x in ['Age' , 'Annual Income' , 'Spending Score']:\n",
        "    for y in ['Age' , 'Annual Income' , 'Spending Score']:\n",
        "        n += 1\n",
        "        plt.subplot(3 , 3 , n)\n",
        "        plt.subplots_adjust(hspace = 0.5 , wspace = 0.5)\n",
        "        sns.regplot(x = x , y = y , data = cluster_5)\n",
        "        plt.ylabel(y.split()[0]+' '+y.split()[1] if len(y.split()) > 1 else y )\n",
        "plt.show()"
      ],
      "execution_count": null,
      "outputs": [
        {
          "output_type": "display_data",
          "data": {
            "image/png": "[encoded data removed]",
            "text/plain": [
              "<Figure size 1080x504 with 9 Axes>"
            ]
          },
          "metadata": {
            "tags": [],
            "needs_background": "light"
          }
        }
      ]
    },
    {
      "cell_type": "markdown",
      "metadata": {
        "id": "Z7XTcmEZTmHb"
      },
      "source": [
        "1. Jika kita lihat pada grafik **Spending Score vs Annual Income**<br>\n",
        "\n",
        "Terlihat ada trend naik, dimana ketika Annual Income membesar  Spending Score ikut membesar.<br>\n",
        "\n",
        "Menurut kami cluster ini sudah sesuai, sehingga tidak diperlukan treatment khusus. "
      ]
    }
  ]
}